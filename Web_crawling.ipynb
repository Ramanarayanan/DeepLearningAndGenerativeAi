{
  "nbformat": 4,
  "nbformat_minor": 0,
  "metadata": {
    "colab": {
      "provenance": [],
      "authorship_tag": "ABX9TyOMw9g+xTJq5+tuIOPCM8aC",
      "include_colab_link": true
    },
    "kernelspec": {
      "name": "python3",
      "display_name": "Python 3"
    },
    "language_info": {
      "name": "python"
    }
  },
  "cells": [
    {
      "cell_type": "markdown",
      "metadata": {
        "id": "view-in-github",
        "colab_type": "text"
      },
      "source": [
        "<a href=\"https://colab.research.google.com/github/Ramanarayanan/DeepLearningAndGenerativeAi/blob/main/Web_crawling.ipynb\" target=\"_parent\"><img src=\"https://colab.research.google.com/assets/colab-badge.svg\" alt=\"Open In Colab\"/></a>"
      ]
    },
    {
      "cell_type": "code",
      "execution_count": null,
      "metadata": {
        "colab": {
          "base_uri": "https://localhost:8080/"
        },
        "id": "fzHQTLP8Awln",
        "outputId": "c4b9af69-79ef-4489-e66f-42b18dccc0af"
      },
      "outputs": [
        {
          "output_type": "stream",
          "name": "stdout",
          "text": [
            "Requirement already satisfied: requests in /usr/local/lib/python3.10/dist-packages (2.32.3)\n",
            "Requirement already satisfied: beautifulsoup4 in /usr/local/lib/python3.10/dist-packages (4.12.3)\n",
            "Collecting sentence-transformers\n",
            "  Downloading sentence_transformers-3.1.1-py3-none-any.whl.metadata (10 kB)\n",
            "Requirement already satisfied: charset-normalizer<4,>=2 in /usr/local/lib/python3.10/dist-packages (from requests) (3.3.2)\n",
            "Requirement already satisfied: idna<4,>=2.5 in /usr/local/lib/python3.10/dist-packages (from requests) (3.10)\n",
            "Requirement already satisfied: urllib3<3,>=1.21.1 in /usr/local/lib/python3.10/dist-packages (from requests) (2.2.3)\n",
            "Requirement already satisfied: certifi>=2017.4.17 in /usr/local/lib/python3.10/dist-packages (from requests) (2024.8.30)\n",
            "Requirement already satisfied: soupsieve>1.2 in /usr/local/lib/python3.10/dist-packages (from beautifulsoup4) (2.6)\n",
            "Requirement already satisfied: transformers<5.0.0,>=4.38.0 in /usr/local/lib/python3.10/dist-packages (from sentence-transformers) (4.44.2)\n",
            "Requirement already satisfied: tqdm in /usr/local/lib/python3.10/dist-packages (from sentence-transformers) (4.66.5)\n",
            "Requirement already satisfied: torch>=1.11.0 in /usr/local/lib/python3.10/dist-packages (from sentence-transformers) (2.4.1+cu121)\n",
            "Requirement already satisfied: scikit-learn in /usr/local/lib/python3.10/dist-packages (from sentence-transformers) (1.5.2)\n",
            "Requirement already satisfied: scipy in /usr/local/lib/python3.10/dist-packages (from sentence-transformers) (1.13.1)\n",
            "Requirement already satisfied: huggingface-hub>=0.19.3 in /usr/local/lib/python3.10/dist-packages (from sentence-transformers) (0.24.7)\n",
            "Requirement already satisfied: Pillow in /usr/local/lib/python3.10/dist-packages (from sentence-transformers) (10.4.0)\n",
            "Requirement already satisfied: filelock in /usr/local/lib/python3.10/dist-packages (from huggingface-hub>=0.19.3->sentence-transformers) (3.16.1)\n",
            "Requirement already satisfied: fsspec>=2023.5.0 in /usr/local/lib/python3.10/dist-packages (from huggingface-hub>=0.19.3->sentence-transformers) (2024.6.1)\n",
            "Requirement already satisfied: packaging>=20.9 in /usr/local/lib/python3.10/dist-packages (from huggingface-hub>=0.19.3->sentence-transformers) (24.1)\n",
            "Requirement already satisfied: pyyaml>=5.1 in /usr/local/lib/python3.10/dist-packages (from huggingface-hub>=0.19.3->sentence-transformers) (6.0.2)\n",
            "Requirement already satisfied: typing-extensions>=3.7.4.3 in /usr/local/lib/python3.10/dist-packages (from huggingface-hub>=0.19.3->sentence-transformers) (4.12.2)\n",
            "Requirement already satisfied: sympy in /usr/local/lib/python3.10/dist-packages (from torch>=1.11.0->sentence-transformers) (1.13.3)\n",
            "Requirement already satisfied: networkx in /usr/local/lib/python3.10/dist-packages (from torch>=1.11.0->sentence-transformers) (3.3)\n",
            "Requirement already satisfied: jinja2 in /usr/local/lib/python3.10/dist-packages (from torch>=1.11.0->sentence-transformers) (3.1.4)\n",
            "Requirement already satisfied: numpy>=1.17 in /usr/local/lib/python3.10/dist-packages (from transformers<5.0.0,>=4.38.0->sentence-transformers) (1.26.4)\n",
            "Requirement already satisfied: regex!=2019.12.17 in /usr/local/lib/python3.10/dist-packages (from transformers<5.0.0,>=4.38.0->sentence-transformers) (2024.9.11)\n",
            "Requirement already satisfied: safetensors>=0.4.1 in /usr/local/lib/python3.10/dist-packages (from transformers<5.0.0,>=4.38.0->sentence-transformers) (0.4.5)\n",
            "Requirement already satisfied: tokenizers<0.20,>=0.19 in /usr/local/lib/python3.10/dist-packages (from transformers<5.0.0,>=4.38.0->sentence-transformers) (0.19.1)\n",
            "Requirement already satisfied: joblib>=1.2.0 in /usr/local/lib/python3.10/dist-packages (from scikit-learn->sentence-transformers) (1.4.2)\n",
            "Requirement already satisfied: threadpoolctl>=3.1.0 in /usr/local/lib/python3.10/dist-packages (from scikit-learn->sentence-transformers) (3.5.0)\n",
            "Requirement already satisfied: MarkupSafe>=2.0 in /usr/local/lib/python3.10/dist-packages (from jinja2->torch>=1.11.0->sentence-transformers) (2.1.5)\n",
            "Requirement already satisfied: mpmath<1.4,>=1.1.0 in /usr/local/lib/python3.10/dist-packages (from sympy->torch>=1.11.0->sentence-transformers) (1.3.0)\n",
            "Downloading sentence_transformers-3.1.1-py3-none-any.whl (245 kB)\n",
            "\u001b[2K   \u001b[90m━━━━━━━━━━━━━━━━━━━━━━━━━━━━━━━━━━━━━━━━\u001b[0m \u001b[32m245.3/245.3 kB\u001b[0m \u001b[31m5.9 MB/s\u001b[0m eta \u001b[36m0:00:00\u001b[0m\n",
            "\u001b[?25hInstalling collected packages: sentence-transformers\n",
            "Successfully installed sentence-transformers-3.1.1\n"
          ]
        }
      ],
      "source": [
        "!pip install requests beautifulsoup4 sentence-transformers\n"
      ]
    },
    {
      "cell_type": "code",
      "source": [
        "import requests\n",
        "from bs4 import BeautifulSoup\n",
        "from sentence_transformers import SentenceTransformer\n",
        "\n",
        "# Step 1: Function to crawl a webpage and extract text\n",
        "def crawl_webpage(url):\n",
        "    response = requests.get(url)\n",
        "    if response.status_code == 200:\n",
        "        soup = BeautifulSoup(response.content, 'html.parser')\n",
        "        # Extract all text from paragraph tags\n",
        "        paragraphs = soup.find_all('p')\n",
        "        text = ' '.join([p.get_text() for p in paragraphs])\n",
        "        return text\n",
        "    else:\n",
        "        print(f\"Failed to retrieve {url}: {response.status_code}\")\n",
        "        return None\n",
        "\n",
        "# Step 2: Function to preprocess the text\n",
        "def preprocess_text(text):\n",
        "    # Basic cleaning; can be extended with more preprocessing if needed\n",
        "    cleaned_text = ' '.join(text.split())  # Remove extra whitespace\n",
        "    return cleaned_text\n",
        "\n",
        "# Step 3: Function to convert text to embeddings\n",
        "def generate_embeddings(texts):\n",
        "    model = SentenceTransformer('all-MiniLM-L6-v2')  # Load a pre-trained model\n",
        "    embeddings = model.encode(texts, convert_to_tensor=True)\n",
        "    return embeddings\n",
        "\n",
        "# Example usage\n",
        "if __name__ == \"__main__\":\n",
        "    url = \"https://www.moneycontrol.com/mutual-funds/performance-tracker/returns/large-cap-fund.html\"  # Example URL\n",
        "    text = crawl_webpage(url)\n",
        "\n",
        "    if text:\n",
        "        cleaned_text = preprocess_text(text)\n",
        "        print(\"Cleaned Text:\\n\", cleaned_text)\n",
        "\n",
        "        # Generate embeddings\n",
        "        embeddings = generate_embeddings([cleaned_text])\n",
        "        print(\"Vector Embedding:\\n\", embeddings)\n"
      ],
      "metadata": {
        "colab": {
          "base_uri": "https://localhost:8080/"
        },
        "id": "ujdkbzZsA2Jv",
        "outputId": "3235f810-536f-480c-863c-11a66cc4d3eb"
      },
      "execution_count": null,
      "outputs": [
        {
          "output_type": "stream",
          "name": "stdout",
          "text": [
            "Cleaned Text:\n",
            " My Account Follow us on: Powered By See the top gainers, losers, invest and get updated what's happening in the crypto market Invest Now Powered By India's Largest Regional Retail Option Traders Summit. (BOTS) is a prestigious options trading event organized by Traders Gurukul. Held on the 2nd OR 3rd Sunday of every month, across top cities in India Invest Now Powered By This functionality will provide users with ease of access navigation and enable create a new revenue line by generating leads of potential customers for brokers in a more integrated manner. Invest Now Equity Hybrid Debt Solution Oriented Others Large Cap Fund : These mutual funds select stocks for investment from the largest 100 stocks listed in the Indian markets (highest market capitalization). Larger stocks are expected to be less risky whereas smaller stocks may have higher potential to grow . Suitable For : Investors who are looking to invest money for at least 3-4 years and looking for high returns. At the same time, these investors should also be ready for possibility of moderate losses in their investments. NAV & Returns data as onNAV as on: 04-Oct-24. Copyright ¬© e-Eighteen.com Ltd. All rights reserved. Reproduction of news articles, photos, videos or any other content in whole or in part in any form or medium without express writtern permission of moneycontrol.com is prohibited. You are already a Moneycontrol Pro user.\n",
            "Vector Embedding:\n",
            " tensor([[-2.4332e-02, -3.9759e-02, -6.6557e-02, -1.6290e-02, -9.7804e-03,\n",
            "         -1.4856e-02,  3.5604e-02,  5.4810e-02, -1.5750e-02,  1.9116e-02,\n",
            "         -1.4345e-02, -4.2380e-03,  1.0487e-02,  2.8371e-02,  2.9499e-02,\n",
            "         -2.9092e-02,  2.7566e-02, -8.7204e-02, -3.0276e-02,  1.8000e-02,\n",
            "         -7.1611e-02, -2.6694e-02, -2.2616e-02, -2.4976e-02,  7.5293e-02,\n",
            "          8.6272e-03,  1.9088e-02,  7.4381e-03, -3.9093e-02, -8.9997e-02,\n",
            "          3.0561e-02, -8.7094e-03, -8.4424e-03, -2.9402e-02, -4.7618e-02,\n",
            "          5.6164e-02, -7.7476e-02,  7.6916e-02,  9.1271e-02, -2.0870e-02,\n",
            "         -3.0750e-02, -1.0554e-02,  8.6669e-03, -1.7235e-02,  6.3466e-03,\n",
            "         -1.3542e-02,  2.4810e-02,  1.5707e-02,  6.3163e-02, -2.6169e-02,\n",
            "         -5.1675e-02,  8.4016e-03,  3.1408e-02, -3.2163e-02, -6.2610e-02,\n",
            "          1.6512e-03, -7.9463e-02, -3.1843e-02,  5.0379e-02,  2.1708e-02,\n",
            "          9.0237e-03,  6.7537e-02,  9.4627e-02,  3.3194e-02,  4.2026e-02,\n",
            "         -1.6723e-02, -1.7475e-02,  1.0940e-01,  2.7124e-02, -2.4282e-02,\n",
            "          3.9997e-02, -2.9955e-02, -1.2906e-01,  5.1651e-03, -4.3949e-02,\n",
            "         -3.5649e-03,  2.9118e-02,  2.0988e-02,  2.5977e-02, -4.0102e-03,\n",
            "         -4.3506e-02, -5.3019e-03, -2.2122e-03,  4.0913e-02, -7.9322e-02,\n",
            "          2.5612e-02, -3.5595e-02, -2.7302e-03,  3.5917e-02, -2.1076e-02,\n",
            "          5.6239e-02,  3.0376e-02,  3.1016e-03,  1.4648e-02,  1.5550e-02,\n",
            "          2.1852e-02, -6.9940e-02, -4.9111e-02, -1.2396e-02,  4.5639e-02,\n",
            "          8.8367e-02, -5.9939e-02, -5.8294e-02, -2.2031e-02, -8.0397e-02,\n",
            "         -8.2324e-02,  5.2597e-02, -8.3047e-02,  8.3708e-02,  2.2741e-02,\n",
            "         -6.7564e-02,  1.3914e-01, -1.8655e-02,  1.8021e-03, -9.0627e-02,\n",
            "          6.4908e-02, -4.0332e-02,  3.8219e-02,  7.2731e-02,  5.8182e-02,\n",
            "         -4.0910e-02,  7.3837e-02, -1.3711e-02, -5.2724e-02,  3.9914e-02,\n",
            "          4.3506e-02, -5.4545e-03,  9.9992e-33, -9.7832e-02, -7.0877e-02,\n",
            "          1.7664e-02,  1.7804e-02, -9.6295e-02,  1.0192e-02,  2.0777e-02,\n",
            "         -8.5562e-02, -9.3059e-02, -2.4502e-02, -5.9253e-02,  4.1715e-02,\n",
            "         -9.6790e-03,  2.6949e-04,  6.8359e-02, -9.3599e-02, -3.4469e-02,\n",
            "          7.6768e-03, -9.2616e-03, -6.8221e-02,  3.2191e-02,  1.5610e-02,\n",
            "          5.0152e-02,  1.5442e-02,  1.1569e-01,  1.0254e-02,  5.7575e-02,\n",
            "         -5.6153e-02,  4.2241e-02,  2.7008e-02, -1.7863e-03,  1.7619e-02,\n",
            "         -1.0564e-01,  1.1203e-02, -4.3050e-02,  5.2329e-02, -7.0737e-02,\n",
            "         -6.1122e-02, -8.6706e-02,  4.4182e-02, -4.3496e-02,  6.3250e-02,\n",
            "         -8.6929e-02, -7.1148e-02, -5.4922e-03,  9.0340e-02,  2.9741e-02,\n",
            "          9.6658e-02, -2.5653e-02, -1.4864e-02, -7.7191e-02, -2.2591e-03,\n",
            "         -2.6734e-03, -1.6839e-02,  4.4127e-02, -1.9266e-02, -4.1071e-02,\n",
            "         -5.3065e-02, -4.5698e-03, -1.2115e-02,  7.7223e-03, -7.6547e-02,\n",
            "         -7.2692e-02, -8.4687e-03, -7.6217e-02,  8.5047e-02,  8.7321e-02,\n",
            "         -4.5823e-02,  3.1520e-02,  4.3454e-02,  1.4095e-02,  1.8779e-02,\n",
            "          6.0197e-02, -1.3847e-02, -3.0183e-02, -1.2901e-02, -6.3922e-02,\n",
            "          4.8207e-02,  7.8924e-02,  5.6655e-02,  5.0495e-02, -1.1507e-02,\n",
            "          1.9717e-02, -1.5712e-02,  9.0477e-02, -9.0560e-03,  3.2741e-03,\n",
            "         -5.9086e-02,  3.2714e-02, -1.4180e-03, -2.9066e-02,  1.2905e-02,\n",
            "          1.0268e-02, -1.2492e-02, -3.1412e-02, -1.0498e-32, -4.1772e-02,\n",
            "         -2.8976e-02,  1.5423e-02,  6.1378e-02,  2.4193e-02,  8.5459e-03,\n",
            "          3.2586e-02,  3.1427e-02,  2.8552e-02,  1.2427e-02, -6.5920e-02,\n",
            "          7.6424e-03,  2.9700e-02, -5.5716e-03, -1.9370e-02, -7.9890e-02,\n",
            "          4.2991e-03, -2.8848e-02,  5.7160e-02, -3.5544e-02,  1.2624e-03,\n",
            "          4.7117e-02, -8.8666e-02,  3.2343e-02,  8.8521e-02,  4.5586e-03,\n",
            "         -8.8031e-02,  1.2710e-01, -6.5460e-02, -5.5123e-02, -1.2789e-02,\n",
            "          1.2886e-02, -4.0102e-02,  4.5690e-02, -3.9702e-02,  1.0559e-02,\n",
            "          7.4200e-02, -1.7986e-02, -1.6004e-02,  4.9046e-02,  2.0996e-02,\n",
            "          6.1042e-02,  5.6923e-02, -3.6022e-02, -4.0515e-02, -9.7556e-03,\n",
            "         -3.1846e-02,  7.0989e-02,  8.4166e-02, -3.7637e-02,  3.6878e-02,\n",
            "          1.0267e-02, -8.8947e-03,  5.8026e-03,  3.1275e-02, -4.2567e-02,\n",
            "          2.8961e-02,  7.3899e-03, -5.9356e-02, -1.6086e-02,  1.0302e-03,\n",
            "         -3.1637e-02,  2.9623e-02,  6.1168e-02, -2.9621e-02,  6.1903e-02,\n",
            "          1.3270e-02, -1.0773e-02, -1.9153e-02, -1.0521e-01,  5.2942e-02,\n",
            "         -1.5547e-01,  3.2731e-02, -1.3721e-03,  1.4806e-02,  2.7512e-02,\n",
            "          1.1990e-02, -4.6340e-02,  6.7178e-02,  7.9044e-03, -4.4639e-02,\n",
            "          2.8067e-02,  3.7636e-02,  7.0993e-02,  6.7413e-02,  1.0080e-01,\n",
            "         -4.4367e-02,  1.3550e-02,  5.6700e-02, -1.5854e-02, -3.0666e-02,\n",
            "         -2.6117e-03,  2.0465e-02,  1.0262e-01,  1.1226e-02, -6.9894e-08,\n",
            "          3.1971e-03, -6.8324e-02,  9.0480e-03, -2.6129e-04,  2.3616e-03,\n",
            "          2.8938e-03, -2.0807e-02, -4.6095e-02,  6.7170e-02,  1.4535e-02,\n",
            "          1.2779e-01, -5.5441e-02, -5.2039e-02, -1.9716e-02,  3.7044e-02,\n",
            "         -8.4307e-02, -4.7533e-02,  3.1142e-02, -2.9181e-02, -6.0066e-02,\n",
            "          2.3604e-02,  2.7515e-02,  2.4088e-02,  1.6924e-02,  5.8693e-02,\n",
            "         -1.8412e-02, -6.3614e-02,  3.7988e-02,  1.4570e-02,  2.1338e-02,\n",
            "         -7.3262e-02, -4.4175e-03,  5.7568e-02, -3.9724e-02, -5.5496e-02,\n",
            "          5.5248e-02,  3.8516e-02,  6.0779e-02,  6.5988e-02,  6.0577e-02,\n",
            "         -5.0405e-02, -9.5427e-02,  7.3198e-02, -4.8883e-02, -5.9723e-02,\n",
            "         -2.0253e-02, -4.7786e-02, -4.7546e-02,  6.3792e-02, -1.4683e-01,\n",
            "         -8.0683e-02, -3.1300e-02,  7.9582e-02,  7.7332e-02,  5.1182e-02,\n",
            "          2.0572e-02, -1.1604e-01, -1.2017e-02, -4.9462e-02, -4.7700e-02,\n",
            "          8.8629e-02, -1.2918e-01, -1.0667e-01,  7.2723e-02]])\n"
          ]
        }
      ]
    }
  ]
}