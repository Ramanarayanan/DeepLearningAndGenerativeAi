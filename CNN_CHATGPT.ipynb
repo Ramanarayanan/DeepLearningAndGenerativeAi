{
  "nbformat": 4,
  "nbformat_minor": 0,
  "metadata": {
    "colab": {
      "provenance": [],
      "authorship_tag": "ABX9TyMTXrey8UWnf7GZtRf3+36X",
      "include_colab_link": true
    },
    "kernelspec": {
      "name": "python3",
      "display_name": "Python 3"
    },
    "language_info": {
      "name": "python"
    }
  },
  "cells": [
    {
      "cell_type": "markdown",
      "metadata": {
        "id": "view-in-github",
        "colab_type": "text"
      },
      "source": [
        "<a href=\"https://colab.research.google.com/github/Ramanarayanan/DeepLearningAndGenerativeAi/blob/main/CNN_CHATGPT.ipynb\" target=\"_parent\"><img src=\"https://colab.research.google.com/assets/colab-badge.svg\" alt=\"Open In Colab\"/></a>"
      ]
    },
    {
      "cell_type": "code",
      "execution_count": null,
      "metadata": {
        "colab": {
          "base_uri": "https://localhost:8080/"
        },
        "id": "z2f0XZXzq84I",
        "outputId": "3d67d8f0-aae6-4138-89b1-fa88e682988f"
      },
      "outputs": [
        {
          "output_type": "stream",
          "name": "stdout",
          "text": [
            "Downloading data from https://www.cs.toronto.edu/~kriz/cifar-10-python.tar.gz\n",
            "170498071/170498071 [==============================] - 4s 0us/step\n",
            "Epoch 1/10\n",
            "704/704 [==============================] - 67s 92ms/step - loss: 1.6618 - accuracy: 0.3911 - val_loss: 1.3895 - val_accuracy: 0.4974\n",
            "Epoch 2/10\n",
            "704/704 [==============================] - 61s 86ms/step - loss: 1.2915 - accuracy: 0.5391 - val_loss: 1.1618 - val_accuracy: 0.5886\n",
            "Epoch 3/10\n",
            "704/704 [==============================] - 59s 84ms/step - loss: 1.1192 - accuracy: 0.6056 - val_loss: 1.0957 - val_accuracy: 0.6078\n",
            "Epoch 4/10\n",
            "704/704 [==============================] - 60s 85ms/step - loss: 1.0111 - accuracy: 0.6426 - val_loss: 1.0291 - val_accuracy: 0.6420\n",
            "Epoch 5/10\n",
            "704/704 [==============================] - 59s 83ms/step - loss: 0.9383 - accuracy: 0.6694 - val_loss: 0.9084 - val_accuracy: 0.6850\n",
            "Epoch 6/10\n",
            "704/704 [==============================] - 60s 85ms/step - loss: 0.8742 - accuracy: 0.6928 - val_loss: 0.9070 - val_accuracy: 0.6822\n",
            "Epoch 7/10\n",
            "704/704 [==============================] - 60s 85ms/step - loss: 0.8277 - accuracy: 0.7090 - val_loss: 0.8981 - val_accuracy: 0.6894\n",
            "Epoch 8/10\n",
            "704/704 [==============================] - 58s 83ms/step - loss: 0.7829 - accuracy: 0.7255 - val_loss: 0.9248 - val_accuracy: 0.6804\n",
            "Epoch 9/10\n",
            "704/704 [==============================] - 60s 85ms/step - loss: 0.7432 - accuracy: 0.7399 - val_loss: 0.8751 - val_accuracy: 0.6966\n",
            "Epoch 10/10\n",
            "704/704 [==============================] - 58s 83ms/step - loss: 0.7110 - accuracy: 0.7500 - val_loss: 0.8598 - val_accuracy: 0.7096\n",
            "1/1 [==============================] - 0s 116ms/step\n",
            "Predicted Animal Names:\n",
            "['cat', 'ship', 'ship', 'airplane', 'deer']\n"
          ]
        }
      ],
      "source": [
        "import requests\n",
        "import numpy as np\n",
        "from keras.models import Sequential\n",
        "from keras.layers import Conv2D, MaxPooling2D, Flatten, Dense\n",
        "from keras.datasets import cifar10\n",
        "from keras.utils import to_categorical\n",
        "\n",
        "# Step 1: Fetch and preprocess the image dataset from the public API (CIFAR-10)\n",
        "(x_train, y_train), (x_test, y_test) = cifar10.load_data()\n",
        "\n",
        "# Normalize the image data to values between 0 and 1\n",
        "x_train = x_train.astype('float32') / 255.0\n",
        "x_test = x_test.astype('float32') / 255.0\n",
        "\n",
        "# One-hot encode the labels\n",
        "y_train = to_categorical(y_train, num_classes=10)\n",
        "y_test = to_categorical(y_test, num_classes=10)\n",
        "\n",
        "# Step 2: Create and compile the CNN model\n",
        "model = Sequential()\n",
        "model.add(Conv2D(32, (3, 3), activation='relu', input_shape=(32, 32, 3)))\n",
        "model.add(MaxPooling2D((2, 2)))\n",
        "model.add(Conv2D(64, (3, 3), activation='relu'))\n",
        "model.add(MaxPooling2D((2, 2)))\n",
        "model.add(Conv2D(64, (3, 3), activation='relu'))\n",
        "model.add(Flatten())\n",
        "model.add(Dense(64, activation='relu'))\n",
        "model.add(Dense(10, activation='softmax'))\n",
        "\n",
        "model.compile(optimizer='adam', loss='categorical_crossentropy', metrics=['accuracy'])\n",
        "\n",
        "# Step 3: Train the CNN model on the dataset\n",
        "model.fit(x_train, y_train, epochs=10, batch_size=64, validation_split=0.1)\n",
        "\n",
        "# Step 4: Make predictions on new input images\n",
        "# You can use images from the public API or your own images for prediction.\n",
        "# For this example, we'll use a subset of the test data.\n",
        "sample_images = x_test[:5]\n",
        "predictions = model.predict(sample_images)\n",
        "\n",
        "# Map class indices to actual animal names\n",
        "class_names = ['airplane', 'automobile', 'bird', 'cat', 'deer', 'dog', 'frog', 'horse', 'ship', 'truck']\n",
        "predicted_classes = np.argmax(predictions, axis=1)\n",
        "predicted_animal_names = [class_names[class_idx] for class_idx in predicted_classes]\n",
        "\n",
        "print(\"Predicted Animal Names:\")\n",
        "print(predicted_animal_names)\n"
      ]
    }
  ]
}