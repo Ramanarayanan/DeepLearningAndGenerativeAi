{
  "nbformat": 4,
  "nbformat_minor": 0,
  "metadata": {
    "colab": {
      "provenance": [],
      "mount_file_id": "1MOrvZlEhLqCE0vCPUCco8bsUNWlP5nqa",
      "authorship_tag": "ABX9TyNWtzs09a9ZVsVdvtiJG+uN",
      "include_colab_link": true
    },
    "kernelspec": {
      "name": "python3",
      "display_name": "Python 3"
    },
    "language_info": {
      "name": "python"
    }
  },
  "cells": [
    {
      "cell_type": "markdown",
      "metadata": {
        "id": "view-in-github",
        "colab_type": "text"
      },
      "source": [
        "<a href=\"https://colab.research.google.com/github/Ramanarayanan/DeepLearningAndGenerativeAi/blob/main/Copy_of_Accenture_results_pdf_lama_chat_.ipynb\" target=\"_parent\"><img src=\"https://colab.research.google.com/assets/colab-badge.svg\" alt=\"Open In Colab\"/></a>"
      ]
    },
    {
      "cell_type": "code",
      "execution_count": 33,
      "metadata": {
        "colab": {
          "base_uri": "https://localhost:8080/"
        },
        "id": "pnMs7bERYETe",
        "outputId": "a90bef98-4d0e-4e43-a14e-8188ea5da4b6"
      },
      "outputs": [
        {
          "output_type": "stream",
          "name": "stdout",
          "text": [
            "Requirement already satisfied: langchain in /usr/local/lib/python3.10/dist-packages (0.3.13)\n",
            "Requirement already satisfied: langchain_groq in /usr/local/lib/python3.10/dist-packages (0.2.2)\n",
            "Requirement already satisfied: langchain-community in /usr/local/lib/python3.10/dist-packages (0.3.13)\n",
            "Collecting unstructured\n",
            "  Using cached unstructured-0.16.11-py3-none-any.whl.metadata (24 kB)\n",
            "Collecting InstructorEmbedding\n",
            "  Using cached InstructorEmbedding-1.0.1-py2.py3-none-any.whl.metadata (20 kB)\n",
            "Requirement already satisfied: sentence_transformers in /usr/local/lib/python3.10/dist-packages (3.3.1)\n",
            "Requirement already satisfied: langchain-huggingface in /usr/local/lib/python3.10/dist-packages (0.1.2)\n",
            "\u001b[31mERROR: Could not find a version that satisfies the requirement install (from versions: none)\u001b[0m\u001b[31m\n",
            "\u001b[0m\u001b[31mERROR: No matching distribution found for install\u001b[0m\u001b[31m\n",
            "\u001b[0m"
          ]
        }
      ],
      "source": [
        "!pip install langchain langchain_groq langchain-community unstructured InstructorEmbedding sentence_transformers langchain-huggingface install faiss-cpu langchain-community"
      ]
    },
    {
      "cell_type": "code",
      "source": [
        "!pip install -U langchain-community pymupdf rapidocr-onnxruntime faiss-cpu langchain_groq langchain-huggingface"
      ],
      "metadata": {
        "colab": {
          "base_uri": "https://localhost:8080/"
        },
        "id": "pGbIq9DVYMcl",
        "outputId": "ad06526e-585d-4bfd-bdc4-defef985d4fa"
      },
      "execution_count": 34,
      "outputs": [
        {
          "output_type": "stream",
          "name": "stdout",
          "text": [
            "Requirement already satisfied: langchain-community in /usr/local/lib/python3.10/dist-packages (0.3.13)\n",
            "Requirement already satisfied: pymupdf in /usr/local/lib/python3.10/dist-packages (1.25.1)\n",
            "Requirement already satisfied: rapidocr-onnxruntime in /usr/local/lib/python3.10/dist-packages (1.4.3)\n",
            "Requirement already satisfied: faiss-cpu in /usr/local/lib/python3.10/dist-packages (1.9.0.post1)\n",
            "Requirement already satisfied: langchain_groq in /usr/local/lib/python3.10/dist-packages (0.2.2)\n",
            "Requirement already satisfied: langchain-huggingface in /usr/local/lib/python3.10/dist-packages (0.1.2)\n",
            "Requirement already satisfied: PyYAML>=5.3 in /usr/local/lib/python3.10/dist-packages (from langchain-community) (6.0.2)\n",
            "Requirement already satisfied: SQLAlchemy<3,>=1.4 in /usr/local/lib/python3.10/dist-packages (from langchain-community) (2.0.36)\n",
            "Requirement already satisfied: aiohttp<4.0.0,>=3.8.3 in /usr/local/lib/python3.10/dist-packages (from langchain-community) (3.11.10)\n",
            "Requirement already satisfied: dataclasses-json<0.7,>=0.5.7 in /usr/local/lib/python3.10/dist-packages (from langchain-community) (0.6.7)\n",
            "Requirement already satisfied: httpx-sse<0.5.0,>=0.4.0 in /usr/local/lib/python3.10/dist-packages (from langchain-community) (0.4.0)\n",
            "Requirement already satisfied: langchain<0.4.0,>=0.3.13 in /usr/local/lib/python3.10/dist-packages (from langchain-community) (0.3.13)\n",
            "Requirement already satisfied: langchain-core<0.4.0,>=0.3.27 in /usr/local/lib/python3.10/dist-packages (from langchain-community) (0.3.28)\n",
            "Requirement already satisfied: langsmith<0.3,>=0.1.125 in /usr/local/lib/python3.10/dist-packages (from langchain-community) (0.2.3)\n",
            "Requirement already satisfied: numpy<2,>=1.22.4 in /usr/local/lib/python3.10/dist-packages (from langchain-community) (1.26.4)\n",
            "Requirement already satisfied: pydantic-settings<3.0.0,>=2.4.0 in /usr/local/lib/python3.10/dist-packages (from langchain-community) (2.7.0)\n",
            "Requirement already satisfied: requests<3,>=2 in /usr/local/lib/python3.10/dist-packages (from langchain-community) (2.32.3)\n",
            "Requirement already satisfied: tenacity!=8.4.0,<10,>=8.1.0 in /usr/local/lib/python3.10/dist-packages (from langchain-community) (9.0.0)\n",
            "Requirement already satisfied: pyclipper>=1.2.0 in /usr/local/lib/python3.10/dist-packages (from rapidocr-onnxruntime) (1.3.0.post6)\n",
            "Requirement already satisfied: opencv-python>=4.5.1.48 in /usr/local/lib/python3.10/dist-packages (from rapidocr-onnxruntime) (4.10.0.84)\n",
            "Requirement already satisfied: six>=1.15.0 in /usr/local/lib/python3.10/dist-packages (from rapidocr-onnxruntime) (1.17.0)\n",
            "Requirement already satisfied: Shapely!=2.0.4,>=1.7.1 in /usr/local/lib/python3.10/dist-packages (from rapidocr-onnxruntime) (2.0.6)\n",
            "Requirement already satisfied: Pillow in /usr/local/lib/python3.10/dist-packages (from rapidocr-onnxruntime) (11.0.0)\n",
            "Requirement already satisfied: onnxruntime>=1.7.0 in /usr/local/lib/python3.10/dist-packages (from rapidocr-onnxruntime) (1.20.1)\n",
            "Requirement already satisfied: tqdm in /usr/local/lib/python3.10/dist-packages (from rapidocr-onnxruntime) (4.67.1)\n",
            "Requirement already satisfied: packaging in /usr/local/lib/python3.10/dist-packages (from faiss-cpu) (24.2)\n",
            "Requirement already satisfied: groq<1,>=0.4.1 in /usr/local/lib/python3.10/dist-packages (from langchain_groq) (0.13.1)\n",
            "Requirement already satisfied: huggingface-hub>=0.23.0 in /usr/local/lib/python3.10/dist-packages (from langchain-huggingface) (0.27.0)\n",
            "Requirement already satisfied: sentence-transformers>=2.6.0 in /usr/local/lib/python3.10/dist-packages (from langchain-huggingface) (3.3.1)\n",
            "Requirement already satisfied: tokenizers>=0.19.1 in /usr/local/lib/python3.10/dist-packages (from langchain-huggingface) (0.21.0)\n",
            "Requirement already satisfied: transformers>=4.39.0 in /usr/local/lib/python3.10/dist-packages (from langchain-huggingface) (4.47.1)\n",
            "Requirement already satisfied: aiohappyeyeballs>=2.3.0 in /usr/local/lib/python3.10/dist-packages (from aiohttp<4.0.0,>=3.8.3->langchain-community) (2.4.4)\n",
            "Requirement already satisfied: aiosignal>=1.1.2 in /usr/local/lib/python3.10/dist-packages (from aiohttp<4.0.0,>=3.8.3->langchain-community) (1.3.2)\n",
            "Requirement already satisfied: async-timeout<6.0,>=4.0 in /usr/local/lib/python3.10/dist-packages (from aiohttp<4.0.0,>=3.8.3->langchain-community) (4.0.3)\n",
            "Requirement already satisfied: attrs>=17.3.0 in /usr/local/lib/python3.10/dist-packages (from aiohttp<4.0.0,>=3.8.3->langchain-community) (24.3.0)\n",
            "Requirement already satisfied: frozenlist>=1.1.1 in /usr/local/lib/python3.10/dist-packages (from aiohttp<4.0.0,>=3.8.3->langchain-community) (1.5.0)\n",
            "Requirement already satisfied: multidict<7.0,>=4.5 in /usr/local/lib/python3.10/dist-packages (from aiohttp<4.0.0,>=3.8.3->langchain-community) (6.1.0)\n",
            "Requirement already satisfied: propcache>=0.2.0 in /usr/local/lib/python3.10/dist-packages (from aiohttp<4.0.0,>=3.8.3->langchain-community) (0.2.1)\n",
            "Requirement already satisfied: yarl<2.0,>=1.17.0 in /usr/local/lib/python3.10/dist-packages (from aiohttp<4.0.0,>=3.8.3->langchain-community) (1.18.3)\n",
            "Requirement already satisfied: marshmallow<4.0.0,>=3.18.0 in /usr/local/lib/python3.10/dist-packages (from dataclasses-json<0.7,>=0.5.7->langchain-community) (3.23.2)\n",
            "Requirement already satisfied: typing-inspect<1,>=0.4.0 in /usr/local/lib/python3.10/dist-packages (from dataclasses-json<0.7,>=0.5.7->langchain-community) (0.9.0)\n",
            "Requirement already satisfied: anyio<5,>=3.5.0 in /usr/local/lib/python3.10/dist-packages (from groq<1,>=0.4.1->langchain_groq) (3.7.1)\n",
            "Requirement already satisfied: distro<2,>=1.7.0 in /usr/local/lib/python3.10/dist-packages (from groq<1,>=0.4.1->langchain_groq) (1.9.0)\n",
            "Requirement already satisfied: httpx<1,>=0.23.0 in /usr/local/lib/python3.10/dist-packages (from groq<1,>=0.4.1->langchain_groq) (0.28.1)\n",
            "Requirement already satisfied: pydantic<3,>=1.9.0 in /usr/local/lib/python3.10/dist-packages (from groq<1,>=0.4.1->langchain_groq) (2.10.3)\n",
            "Requirement already satisfied: sniffio in /usr/local/lib/python3.10/dist-packages (from groq<1,>=0.4.1->langchain_groq) (1.3.1)\n",
            "Requirement already satisfied: typing-extensions<5,>=4.10 in /usr/local/lib/python3.10/dist-packages (from groq<1,>=0.4.1->langchain_groq) (4.12.2)\n",
            "Requirement already satisfied: filelock in /usr/local/lib/python3.10/dist-packages (from huggingface-hub>=0.23.0->langchain-huggingface) (3.16.1)\n",
            "Requirement already satisfied: fsspec>=2023.5.0 in /usr/local/lib/python3.10/dist-packages (from huggingface-hub>=0.23.0->langchain-huggingface) (2024.10.0)\n",
            "Requirement already satisfied: langchain-text-splitters<0.4.0,>=0.3.3 in /usr/local/lib/python3.10/dist-packages (from langchain<0.4.0,>=0.3.13->langchain-community) (0.3.3)\n",
            "Requirement already satisfied: jsonpatch<2.0,>=1.33 in /usr/local/lib/python3.10/dist-packages (from langchain-core<0.4.0,>=0.3.27->langchain-community) (1.33)\n",
            "Requirement already satisfied: orjson<4.0.0,>=3.9.14 in /usr/local/lib/python3.10/dist-packages (from langsmith<0.3,>=0.1.125->langchain-community) (3.10.12)\n",
            "Requirement already satisfied: requests-toolbelt<2.0.0,>=1.0.0 in /usr/local/lib/python3.10/dist-packages (from langsmith<0.3,>=0.1.125->langchain-community) (1.0.0)\n",
            "Requirement already satisfied: coloredlogs in /usr/local/lib/python3.10/dist-packages (from onnxruntime>=1.7.0->rapidocr-onnxruntime) (15.0.1)\n",
            "Requirement already satisfied: flatbuffers in /usr/local/lib/python3.10/dist-packages (from onnxruntime>=1.7.0->rapidocr-onnxruntime) (24.3.25)\n",
            "Requirement already satisfied: protobuf in /usr/local/lib/python3.10/dist-packages (from onnxruntime>=1.7.0->rapidocr-onnxruntime) (4.25.5)\n",
            "Requirement already satisfied: sympy in /usr/local/lib/python3.10/dist-packages (from onnxruntime>=1.7.0->rapidocr-onnxruntime) (1.13.1)\n",
            "Requirement already satisfied: python-dotenv>=0.21.0 in /usr/local/lib/python3.10/dist-packages (from pydantic-settings<3.0.0,>=2.4.0->langchain-community) (1.0.1)\n",
            "Requirement already satisfied: charset-normalizer<4,>=2 in /usr/local/lib/python3.10/dist-packages (from requests<3,>=2->langchain-community) (3.4.0)\n",
            "Requirement already satisfied: idna<4,>=2.5 in /usr/local/lib/python3.10/dist-packages (from requests<3,>=2->langchain-community) (3.10)\n",
            "Requirement already satisfied: urllib3<3,>=1.21.1 in /usr/local/lib/python3.10/dist-packages (from requests<3,>=2->langchain-community) (2.2.3)\n",
            "Requirement already satisfied: certifi>=2017.4.17 in /usr/local/lib/python3.10/dist-packages (from requests<3,>=2->langchain-community) (2024.12.14)\n",
            "Requirement already satisfied: torch>=1.11.0 in /usr/local/lib/python3.10/dist-packages (from sentence-transformers>=2.6.0->langchain-huggingface) (2.5.1+cu121)\n",
            "Requirement already satisfied: scikit-learn in /usr/local/lib/python3.10/dist-packages (from sentence-transformers>=2.6.0->langchain-huggingface) (1.6.0)\n",
            "Requirement already satisfied: scipy in /usr/local/lib/python3.10/dist-packages (from sentence-transformers>=2.6.0->langchain-huggingface) (1.13.1)\n",
            "Requirement already satisfied: greenlet!=0.4.17 in /usr/local/lib/python3.10/dist-packages (from SQLAlchemy<3,>=1.4->langchain-community) (3.1.1)\n",
            "Requirement already satisfied: regex!=2019.12.17 in /usr/local/lib/python3.10/dist-packages (from transformers>=4.39.0->langchain-huggingface) (2024.11.6)\n",
            "Requirement already satisfied: safetensors>=0.4.1 in /usr/local/lib/python3.10/dist-packages (from transformers>=4.39.0->langchain-huggingface) (0.4.5)\n",
            "Requirement already satisfied: exceptiongroup in /usr/local/lib/python3.10/dist-packages (from anyio<5,>=3.5.0->groq<1,>=0.4.1->langchain_groq) (1.2.2)\n",
            "Requirement already satisfied: httpcore==1.* in /usr/local/lib/python3.10/dist-packages (from httpx<1,>=0.23.0->groq<1,>=0.4.1->langchain_groq) (1.0.7)\n",
            "Requirement already satisfied: h11<0.15,>=0.13 in /usr/local/lib/python3.10/dist-packages (from httpcore==1.*->httpx<1,>=0.23.0->groq<1,>=0.4.1->langchain_groq) (0.14.0)\n",
            "Requirement already satisfied: jsonpointer>=1.9 in /usr/local/lib/python3.10/dist-packages (from jsonpatch<2.0,>=1.33->langchain-core<0.4.0,>=0.3.27->langchain-community) (3.0.0)\n",
            "Requirement already satisfied: annotated-types>=0.6.0 in /usr/local/lib/python3.10/dist-packages (from pydantic<3,>=1.9.0->groq<1,>=0.4.1->langchain_groq) (0.7.0)\n",
            "Requirement already satisfied: pydantic-core==2.27.1 in /usr/local/lib/python3.10/dist-packages (from pydantic<3,>=1.9.0->groq<1,>=0.4.1->langchain_groq) (2.27.1)\n",
            "Requirement already satisfied: networkx in /usr/local/lib/python3.10/dist-packages (from torch>=1.11.0->sentence-transformers>=2.6.0->langchain-huggingface) (3.4.2)\n",
            "Requirement already satisfied: jinja2 in /usr/local/lib/python3.10/dist-packages (from torch>=1.11.0->sentence-transformers>=2.6.0->langchain-huggingface) (3.1.4)\n",
            "Requirement already satisfied: mpmath<1.4,>=1.1.0 in /usr/local/lib/python3.10/dist-packages (from sympy->onnxruntime>=1.7.0->rapidocr-onnxruntime) (1.3.0)\n",
            "Requirement already satisfied: mypy-extensions>=0.3.0 in /usr/local/lib/python3.10/dist-packages (from typing-inspect<1,>=0.4.0->dataclasses-json<0.7,>=0.5.7->langchain-community) (1.0.0)\n",
            "Requirement already satisfied: humanfriendly>=9.1 in /usr/local/lib/python3.10/dist-packages (from coloredlogs->onnxruntime>=1.7.0->rapidocr-onnxruntime) (10.0)\n",
            "Requirement already satisfied: joblib>=1.2.0 in /usr/local/lib/python3.10/dist-packages (from scikit-learn->sentence-transformers>=2.6.0->langchain-huggingface) (1.4.2)\n",
            "Requirement already satisfied: threadpoolctl>=3.1.0 in /usr/local/lib/python3.10/dist-packages (from scikit-learn->sentence-transformers>=2.6.0->langchain-huggingface) (3.5.0)\n",
            "Requirement already satisfied: MarkupSafe>=2.0 in /usr/local/lib/python3.10/dist-packages (from jinja2->torch>=1.11.0->sentence-transformers>=2.6.0->langchain-huggingface) (3.0.2)\n"
          ]
        }
      ]
    },
    {
      "cell_type": "code",
      "source": [
        "import os\n",
        "\n",
        "import pickle\n",
        "import time\n",
        "import langchain\n",
        "\n",
        "from langchain.chains import RetrievalQAWithSourcesChain\n",
        "from langchain.chains.qa_with_sources.loading import load_qa_with_sources_chain\n",
        "from langchain.text_splitter import RecursiveCharacterTextSplitter\n",
        "from langchain.document_loaders import UnstructuredURLLoader\n",
        "from langchain.embeddings import OpenAIEmbeddings\n",
        "from langchain.vectorstores import FAISS\n",
        "from google.colab import files"
      ],
      "metadata": {
        "id": "wlBa_P4qYQz1"
      },
      "execution_count": 35,
      "outputs": []
    },
    {
      "cell_type": "code",
      "source": [
        "uploaded = files.upload()\n",
        "\n",
        "if uploaded:\n",
        "  file_name = list(uploaded.keys())[0]\n",
        "\n",
        "else:\n",
        "  print(\"No file uploaded\")\n",
        "  exit"
      ],
      "metadata": {
        "colab": {
          "base_uri": "https://localhost:8080/",
          "height": 73
        },
        "id": "XXrUZ1wf5Ls8",
        "outputId": "b8f303f9-3250-49f0-e8e9-c6e1b7dacc09"
      },
      "execution_count": 37,
      "outputs": [
        {
          "output_type": "display_data",
          "data": {
            "text/plain": [
              "<IPython.core.display.HTML object>"
            ],
            "text/html": [
              "\n",
              "     <input type=\"file\" id=\"files-6fd0cf8d-0fce-4366-8fe8-8739dad76837\" name=\"files[]\" multiple disabled\n",
              "        style=\"border:none\" />\n",
              "     <output id=\"result-6fd0cf8d-0fce-4366-8fe8-8739dad76837\">\n",
              "      Upload widget is only available when the cell has been executed in the\n",
              "      current browser session. Please rerun this cell to enable.\n",
              "      </output>\n",
              "      <script>// Copyright 2017 Google LLC\n",
              "//\n",
              "// Licensed under the Apache License, Version 2.0 (the \"License\");\n",
              "// you may not use this file except in compliance with the License.\n",
              "// You may obtain a copy of the License at\n",
              "//\n",
              "//      http://www.apache.org/licenses/LICENSE-2.0\n",
              "//\n",
              "// Unless required by applicable law or agreed to in writing, software\n",
              "// distributed under the License is distributed on an \"AS IS\" BASIS,\n",
              "// WITHOUT WARRANTIES OR CONDITIONS OF ANY KIND, either express or implied.\n",
              "// See the License for the specific language governing permissions and\n",
              "// limitations under the License.\n",
              "\n",
              "/**\n",
              " * @fileoverview Helpers for google.colab Python module.\n",
              " */\n",
              "(function(scope) {\n",
              "function span(text, styleAttributes = {}) {\n",
              "  const element = document.createElement('span');\n",
              "  element.textContent = text;\n",
              "  for (const key of Object.keys(styleAttributes)) {\n",
              "    element.style[key] = styleAttributes[key];\n",
              "  }\n",
              "  return element;\n",
              "}\n",
              "\n",
              "// Max number of bytes which will be uploaded at a time.\n",
              "const MAX_PAYLOAD_SIZE = 100 * 1024;\n",
              "\n",
              "function _uploadFiles(inputId, outputId) {\n",
              "  const steps = uploadFilesStep(inputId, outputId);\n",
              "  const outputElement = document.getElementById(outputId);\n",
              "  // Cache steps on the outputElement to make it available for the next call\n",
              "  // to uploadFilesContinue from Python.\n",
              "  outputElement.steps = steps;\n",
              "\n",
              "  return _uploadFilesContinue(outputId);\n",
              "}\n",
              "\n",
              "// This is roughly an async generator (not supported in the browser yet),\n",
              "// where there are multiple asynchronous steps and the Python side is going\n",
              "// to poll for completion of each step.\n",
              "// This uses a Promise to block the python side on completion of each step,\n",
              "// then passes the result of the previous step as the input to the next step.\n",
              "function _uploadFilesContinue(outputId) {\n",
              "  const outputElement = document.getElementById(outputId);\n",
              "  const steps = outputElement.steps;\n",
              "\n",
              "  const next = steps.next(outputElement.lastPromiseValue);\n",
              "  return Promise.resolve(next.value.promise).then((value) => {\n",
              "    // Cache the last promise value to make it available to the next\n",
              "    // step of the generator.\n",
              "    outputElement.lastPromiseValue = value;\n",
              "    return next.value.response;\n",
              "  });\n",
              "}\n",
              "\n",
              "/**\n",
              " * Generator function which is called between each async step of the upload\n",
              " * process.\n",
              " * @param {string} inputId Element ID of the input file picker element.\n",
              " * @param {string} outputId Element ID of the output display.\n",
              " * @return {!Iterable<!Object>} Iterable of next steps.\n",
              " */\n",
              "function* uploadFilesStep(inputId, outputId) {\n",
              "  const inputElement = document.getElementById(inputId);\n",
              "  inputElement.disabled = false;\n",
              "\n",
              "  const outputElement = document.getElementById(outputId);\n",
              "  outputElement.innerHTML = '';\n",
              "\n",
              "  const pickedPromise = new Promise((resolve) => {\n",
              "    inputElement.addEventListener('change', (e) => {\n",
              "      resolve(e.target.files);\n",
              "    });\n",
              "  });\n",
              "\n",
              "  const cancel = document.createElement('button');\n",
              "  inputElement.parentElement.appendChild(cancel);\n",
              "  cancel.textContent = 'Cancel upload';\n",
              "  const cancelPromise = new Promise((resolve) => {\n",
              "    cancel.onclick = () => {\n",
              "      resolve(null);\n",
              "    };\n",
              "  });\n",
              "\n",
              "  // Wait for the user to pick the files.\n",
              "  const files = yield {\n",
              "    promise: Promise.race([pickedPromise, cancelPromise]),\n",
              "    response: {\n",
              "      action: 'starting',\n",
              "    }\n",
              "  };\n",
              "\n",
              "  cancel.remove();\n",
              "\n",
              "  // Disable the input element since further picks are not allowed.\n",
              "  inputElement.disabled = true;\n",
              "\n",
              "  if (!files) {\n",
              "    return {\n",
              "      response: {\n",
              "        action: 'complete',\n",
              "      }\n",
              "    };\n",
              "  }\n",
              "\n",
              "  for (const file of files) {\n",
              "    const li = document.createElement('li');\n",
              "    li.append(span(file.name, {fontWeight: 'bold'}));\n",
              "    li.append(span(\n",
              "        `(${file.type || 'n/a'}) - ${file.size} bytes, ` +\n",
              "        `last modified: ${\n",
              "            file.lastModifiedDate ? file.lastModifiedDate.toLocaleDateString() :\n",
              "                                    'n/a'} - `));\n",
              "    const percent = span('0% done');\n",
              "    li.appendChild(percent);\n",
              "\n",
              "    outputElement.appendChild(li);\n",
              "\n",
              "    const fileDataPromise = new Promise((resolve) => {\n",
              "      const reader = new FileReader();\n",
              "      reader.onload = (e) => {\n",
              "        resolve(e.target.result);\n",
              "      };\n",
              "      reader.readAsArrayBuffer(file);\n",
              "    });\n",
              "    // Wait for the data to be ready.\n",
              "    let fileData = yield {\n",
              "      promise: fileDataPromise,\n",
              "      response: {\n",
              "        action: 'continue',\n",
              "      }\n",
              "    };\n",
              "\n",
              "    // Use a chunked sending to avoid message size limits. See b/62115660.\n",
              "    let position = 0;\n",
              "    do {\n",
              "      const length = Math.min(fileData.byteLength - position, MAX_PAYLOAD_SIZE);\n",
              "      const chunk = new Uint8Array(fileData, position, length);\n",
              "      position += length;\n",
              "\n",
              "      const base64 = btoa(String.fromCharCode.apply(null, chunk));\n",
              "      yield {\n",
              "        response: {\n",
              "          action: 'append',\n",
              "          file: file.name,\n",
              "          data: base64,\n",
              "        },\n",
              "      };\n",
              "\n",
              "      let percentDone = fileData.byteLength === 0 ?\n",
              "          100 :\n",
              "          Math.round((position / fileData.byteLength) * 100);\n",
              "      percent.textContent = `${percentDone}% done`;\n",
              "\n",
              "    } while (position < fileData.byteLength);\n",
              "  }\n",
              "\n",
              "  // All done.\n",
              "  yield {\n",
              "    response: {\n",
              "      action: 'complete',\n",
              "    }\n",
              "  };\n",
              "}\n",
              "\n",
              "scope.google = scope.google || {};\n",
              "scope.google.colab = scope.google.colab || {};\n",
              "scope.google.colab._files = {\n",
              "  _uploadFiles,\n",
              "  _uploadFilesContinue,\n",
              "};\n",
              "})(self);\n",
              "</script> "
            ]
          },
          "metadata": {}
        },
        {
          "output_type": "stream",
          "name": "stdout",
          "text": [
            "Saving accenture.pdf to accenture (1).pdf\n"
          ]
        }
      ]
    },
    {
      "cell_type": "code",
      "source": [
        "from langchain_community.document_loaders import PyPDFLoader,PyMuPDFLoader\n",
        "\n",
        "loader = PyMuPDFLoader(file_name, extract_images=True)\n",
        "Filedata = loader.load()"
      ],
      "metadata": {
        "id": "fPd3UKecYf4t"
      },
      "execution_count": 38,
      "outputs": []
    },
    {
      "cell_type": "code",
      "source": [
        "# text splitter\n",
        "from langchain.text_splitter import CharacterTextSplitter\n",
        "text_splitter = CharacterTextSplitter(\n",
        "    separator=\"\\n\",\n",
        "    chunk_size=1000,\n",
        "    chunk_overlap=150,\n",
        "    length_function=len\n",
        ")\n",
        "\n",
        "convertedDocs = text_splitter.split_documents(Filedata)\n",
        "print(convertedDocs)"
      ],
      "metadata": {
        "colab": {
          "base_uri": "https://localhost:8080/"
        },
        "id": "HQMjIR8rYmO1",
        "outputId": "a5c585eb-a1c0-4bf1-afe6-2538ef6d3b82"
      },
      "execution_count": 39,
      "outputs": [
        {
          "output_type": "stream",
          "name": "stdout",
          "text": [
            "[Document(metadata={'source': 'accenture (1).pdf', 'file_path': 'accenture (1).pdf', 'page': 0, 'total_pages': 11, 'format': 'PDF 1.6', 'title': 'FY25 Q1 Earnings 8-K Exhibit', 'author': 'anonymous', 'subject': '', 'keywords': '', 'creator': 'Workiva', 'producer': 'Wdesk Fidelity Content Translations Version 010.008.040', 'creationDate': 'D:20241218201405Z', 'modDate': \"D:20241219115942-05'00'\", 'trapped': ''}, page_content='Accenture Reports First-Quarter Fiscal 2025 Results\\nAccenture’s strong Q1 FY25 results reflect broad-based revenue growth across all \\nmarkets and industry groups; Company raises fiscal 2025 revenue outlook\\nNew bookings of $18.7 billion, an increase of 1% in both U.S. dollars and local currency  \\nGenerative AI new bookings of $1.2 billion\\nRevenues of $17.7 billion, an increase of 9% in U.S. dollars and 8% in local currency, with \\nconsulting revenues of $9.0 billion and managed services revenues of $8.6 billion\\nGAAP operating margin of 16.7%, an increase of 90 basis points, and flat compared to adjusted \\noperating margin1 reported in first quarter fiscal 2024\\nGAAP EPS of $3.59, an increase of 16%, and an increase of 10% over adjusted EPS reported \\nin first quarter fiscal 2024 \\nQuarterly cash dividend of $1.48 per share, an increase of 15%\\nAccenture updates its business outlook for fiscal 2025; raises full-year revenue growth to 4% to'), Document(metadata={'source': 'accenture (1).pdf', 'file_path': 'accenture (1).pdf', 'page': 0, 'total_pages': 11, 'format': 'PDF 1.6', 'title': 'FY25 Q1 Earnings 8-K Exhibit', 'author': 'anonymous', 'subject': '', 'keywords': '', 'creator': 'Workiva', 'producer': 'Wdesk Fidelity Content Translations Version 010.008.040', 'creationDate': 'D:20241218201405Z', 'modDate': \"D:20241219115942-05'00'\", 'trapped': ''}, page_content='Accenture updates its business outlook for fiscal 2025; raises full-year revenue growth to 4% to \\n7% in local currency; now expects foreign exchange impact of negative 0.5%; updates outlook \\nfor GAAP EPS to be in the range of $12.43 to $12.79, reflecting its increased revenue outlook \\nand revised foreign-exchange assumption \\nNEW YORK; December 19, 2024 — Accenture (NYSE: ACN) reported financial results for the \\nfirst quarter of fiscal 2025 ended November 30, 2024.\\nJulie Sweet, chair and CEO, Accenture, said, “Our strategy to lead reinvention for clients while \\ncontinuing to invest in our business has given us a strong start to fiscal 2025. We delivered \\nbroad-based revenue growth across both consulting and managed services, and across each \\nmarket and industry group, gaining market share. First quarter new bookings were $18.7 \\nbillion, including 30 quarterly client bookings of more than $100 million, and we continued to'), Document(metadata={'source': 'accenture (1).pdf', 'file_path': 'accenture (1).pdf', 'page': 0, 'total_pages': 11, 'format': 'PDF 1.6', 'title': 'FY25 Q1 Earnings 8-K Exhibit', 'author': 'anonymous', 'subject': '', 'keywords': '', 'creator': 'Workiva', 'producer': 'Wdesk Fidelity Content Translations Version 010.008.040', 'creationDate': 'D:20241218201405Z', 'modDate': \"D:20241219115942-05'00'\", 'trapped': ''}, page_content=\"billion, including 30 quarterly client bookings of more than $100 million, and we continued to \\nlead in helping our clients realize value with generative AI, with new bookings of $1.2 billion. \\nOn behalf of our leadership team, I want to thank our nearly 799,000 Accenture people whose \\ncommitment to our clients' success makes these results possible.”\\nRevenues were $17.7 billion, an increase of 9% in U.S. dollars and 8% in local currency \\ncompared to the first quarter of fiscal 2024.  \\nGAAP operating income was $2.95 billion, a 15% increase compared to $2.56 billion for the first \\nquarter of fiscal 2024, and an increase of 9% compared to adjusted operating income of $2.70 \\nbillion for the first quarter last year. Operating margin was 16.7%, an increase of 90 basis points \\ncompared to operating margin of 15.8% for the first quarter of fiscal 2024, and flat compared to \\nadjusted operating margin of 16.7% for the first quarter last year.\"), Document(metadata={'source': 'accenture (1).pdf', 'file_path': 'accenture (1).pdf', 'page': 0, 'total_pages': 11, 'format': 'PDF 1.6', 'title': 'FY25 Q1 Earnings 8-K Exhibit', 'author': 'anonymous', 'subject': '', 'keywords': '', 'creator': 'Workiva', 'producer': 'Wdesk Fidelity Content Translations Version 010.008.040', 'creationDate': 'D:20241218201405Z', 'modDate': \"D:20241219115942-05'00'\", 'trapped': ''}, page_content='adjusted operating margin of 16.7% for the first quarter last year.\\n1Adjusted financial measures presented in this release are non-GAAP financial measures that exclude business \\noptimization costs recorded in fiscal 2024 as further described in this release.'), Document(metadata={'source': 'accenture (1).pdf', 'file_path': 'accenture (1).pdf', 'page': 1, 'total_pages': 11, 'format': 'PDF 1.6', 'title': 'FY25 Q1 Earnings 8-K Exhibit', 'author': 'anonymous', 'subject': '', 'keywords': '', 'creator': 'Workiva', 'producer': 'Wdesk Fidelity Content Translations Version 010.008.040', 'creationDate': 'D:20241218201405Z', 'modDate': \"D:20241219115942-05'00'\", 'trapped': ''}, page_content=\"GAAP diluted earnings per share were $3.59, a 16% increase compared to $3.10 for the first \\nquarter of fiscal 2024, and an increase of 10% over adjusted EPS of $3.27 for the first quarter \\nlast year.\\nNew bookings for the quarter were $18.7 billion, with consulting bookings of $9.2 billion and \\nmanaged services bookings of $9.5 billion.\\nFinancial Review\\nRevenues for the first quarter of fiscal 2025 were $17.69 billion, compared with $16.22 billion for \\nthe first quarter of fiscal 2024, an increase of 9% in U.S. dollars and 8% in local currency. \\nRevenues were approximately $240 million above the top end of the company’s guided range of \\n$16.85 billion to $17.45 billion. The foreign-exchange impact for the quarter was approximately \\npositive 1%, compared with the positive 1.5% assumption provided in the company's fourth-\\nquarter earnings release.\\n▪\\nConsulting revenues for the quarter were $9.05 billion, an increase of 7% in U.S. dollars\"), Document(metadata={'source': 'accenture (1).pdf', 'file_path': 'accenture (1).pdf', 'page': 1, 'total_pages': 11, 'format': 'PDF 1.6', 'title': 'FY25 Q1 Earnings 8-K Exhibit', 'author': 'anonymous', 'subject': '', 'keywords': '', 'creator': 'Workiva', 'producer': 'Wdesk Fidelity Content Translations Version 010.008.040', 'creationDate': 'D:20241218201405Z', 'modDate': \"D:20241219115942-05'00'\", 'trapped': ''}, page_content='quarter earnings release.\\n▪\\nConsulting revenues for the quarter were $9.05 billion, an increase of 7% in U.S. dollars\\nand 6% in local currency compared with the first quarter of fiscal 2024.\\n▪\\nManaged Services revenues for the quarter were $8.64 billion, an increase of 11% in\\nboth U.S. dollars and local currency compared with the first quarter of fiscal 2024.\\nGAAP diluted EPS for the quarter were $3.59, a 16% increase over $3.10 for the first quarter \\nlast year, which included a $0.17 decrease for business optimization costs. Excluding these \\ncosts, GAAP diluted EPS increased 10% for the first quarter of fiscal 2025 over adjusted EPS of \\n$3.27 for the first quarter of fiscal 2024. The $0.32 increase in GAAP diluted EPS compared to \\nadjusted diluted EPS reflects:\\n▪\\na $0.29 increase from higher revenue and operating results;\\n▪\\na $0.07 increase from a lower effective tax rate; and\\n▪\\na $0.01 increase from lower share count;\\n      partially offset by\\n▪'), Document(metadata={'source': 'accenture (1).pdf', 'file_path': 'accenture (1).pdf', 'page': 1, 'total_pages': 11, 'format': 'PDF 1.6', 'title': 'FY25 Q1 Earnings 8-K Exhibit', 'author': 'anonymous', 'subject': '', 'keywords': '', 'creator': 'Workiva', 'producer': 'Wdesk Fidelity Content Translations Version 010.008.040', 'creationDate': 'D:20241218201405Z', 'modDate': \"D:20241219115942-05'00'\", 'trapped': ''}, page_content='▪\\na $0.07 increase from a lower effective tax rate; and\\n▪\\na $0.01 increase from lower share count;\\n      partially offset by\\n▪\\na $0.05 decrease from lower non-operating income.\\nGross margin (gross profit as a percentage of revenues) for the quarter was 32.9% compared to \\n33.6% in the first quarter of fiscal 2024. Selling, general and administrative (SG&A) expenses \\nfor the quarter were $2.87 billion, or 16.2% of revenues, compared with $2.74 billion, or 16.9% \\nof revenues, for the first quarter of fiscal 2024.     \\nGAAP operating income for the quarter increased 15%, to $2.95 billion, or 16.7% of revenues, \\ncompared with $2.56 billion, or 15.8% of revenues, for the first quarter of fiscal 2024. For the \\nfirst quarter of fiscal 2024, adjusted operating income was $2.70 billion, or 16.7% of revenues.\\nThe company’s GAAP effective tax rate for the quarter was 21.6%, compared with 23.2% for the \\nfirst quarter of fiscal 2024.'), Document(metadata={'source': 'accenture (1).pdf', 'file_path': 'accenture (1).pdf', 'page': 1, 'total_pages': 11, 'format': 'PDF 1.6', 'title': 'FY25 Q1 Earnings 8-K Exhibit', 'author': 'anonymous', 'subject': '', 'keywords': '', 'creator': 'Workiva', 'producer': 'Wdesk Fidelity Content Translations Version 010.008.040', 'creationDate': 'D:20241218201405Z', 'modDate': \"D:20241219115942-05'00'\", 'trapped': ''}, page_content='The company’s GAAP effective tax rate for the quarter was 21.6%, compared with 23.2% for the \\nfirst quarter of fiscal 2024. \\nGAAP net income for the quarter was $2.32 billion, compared with $2.01 billion for the first \\nquarter of fiscal 2024. For the first quarter of fiscal 2024, adjusted net income was $2.12 billion.\\nOperating cash flow for the quarter was $1.02 billion, and property and equipment additions \\nwere $152 million. Free cash flow, defined as operating cash flow net of property and equipment \\nadditions, was $870 million. For the same period last year, operating cash flow was $499 million; \\nproperty and equipment additions were $69 million; and free cash flow was $430 million.'), Document(metadata={'source': 'accenture (1).pdf', 'file_path': 'accenture (1).pdf', 'page': 2, 'total_pages': 11, 'format': 'PDF 1.6', 'title': 'FY25 Q1 Earnings 8-K Exhibit', 'author': 'anonymous', 'subject': '', 'keywords': '', 'creator': 'Workiva', 'producer': 'Wdesk Fidelity Content Translations Version 010.008.040', 'creationDate': 'D:20241218201405Z', 'modDate': \"D:20241219115942-05'00'\", 'trapped': ''}, page_content='Days services outstanding, or DSOs, were 50 days at November 30, 2024, compared with 46 \\ndays at August 31, 2024 and 49 days at November 30, 2023. \\nAccenture’s total cash balance at November 30, 2024 was $8.3 billion, compared with $5.0 \\nbillion at August 31, 2024.  \\nNew Bookings\\nNew bookings for the first quarter of fiscal 2025 were $18.70 billion, a 1% increase in both U.S. \\ndollars and local currency over the first quarter of fiscal 2024.\\n▪\\nConsulting new bookings were $9.22 billion, or 49% of total new bookings.\\n▪\\nManaged Services new bookings were $9.48 billion, or 51% of total new bookings.\\nRevenues by Geographic Market2\\nRevenues by geographic market were as follows:\\n▪\\nAmericas: $8.73 billion, an increase of 9% in U.S. dollars and 11% in local currency\\ncompared with the first quarter of fiscal 2024.\\n▪\\nEMEA: $6.41 billion, an increase of 10% in U.S. dollars and 6% in local currency\\ncompared with the first quarter of fiscal 2024.\\n▪'), Document(metadata={'source': 'accenture (1).pdf', 'file_path': 'accenture (1).pdf', 'page': 2, 'total_pages': 11, 'format': 'PDF 1.6', 'title': 'FY25 Q1 Earnings 8-K Exhibit', 'author': 'anonymous', 'subject': '', 'keywords': '', 'creator': 'Workiva', 'producer': 'Wdesk Fidelity Content Translations Version 010.008.040', 'creationDate': 'D:20241218201405Z', 'modDate': \"D:20241219115942-05'00'\", 'trapped': ''}, page_content='▪\\nEMEA: $6.41 billion, an increase of 10% in U.S. dollars and 6% in local currency\\ncompared with the first quarter of fiscal 2024.\\n▪\\nAsia Pacific: $2.54 billion, an increase of 6% in U.S. dollars and 4% in local currency\\ncompared with the first quarter of fiscal 2024.\\nRevenues by Industry Group\\nRevenues by industry group were as follows: \\n▪\\nCommunications, Media & Technology: $2.86 billion, an increase of 7% in both U.S.\\ndollars and local currency compared with the first quarter of fiscal 2024.\\n▪\\nFinancial Services: $3.17 billion, an increase of 4% in both U.S. dollars and local\\ncurrency compared with the first quarter of fiscal 2024.\\n▪\\nHealth & Public Service: $3.81 billion, an increase of 13% in U.S. dollars and 12% in\\nlocal currency compared with the first quarter of fiscal 2024.\\n▪\\nProducts: $5.43 billion, an increase of 12% in U.S. dollars and 10% in local currency\\ncompared with the first quarter of fiscal 2024.\\n▪'), Document(metadata={'source': 'accenture (1).pdf', 'file_path': 'accenture (1).pdf', 'page': 2, 'total_pages': 11, 'format': 'PDF 1.6', 'title': 'FY25 Q1 Earnings 8-K Exhibit', 'author': 'anonymous', 'subject': '', 'keywords': '', 'creator': 'Workiva', 'producer': 'Wdesk Fidelity Content Translations Version 010.008.040', 'creationDate': 'D:20241218201405Z', 'modDate': \"D:20241219115942-05'00'\", 'trapped': ''}, page_content='▪\\nProducts: $5.43 billion, an increase of 12% in U.S. dollars and 10% in local currency\\ncompared with the first quarter of fiscal 2024.\\n▪\\nResources: $2.42 billion, an increase of 6% in both U.S. dollars and local currency\\ncompared with the first quarter of fiscal 2024.\\nReturning Cash to Shareholders\\nAccenture continues to return cash to shareholders through cash dividends and share \\nrepurchases.\\nDividend\\nOn November 15, 2024, a quarterly cash dividend of $1.48 per share was paid to shareholders \\nof record at the close of business on October 10, 2024. These cash dividend payments totaled \\n$926 million.\\n2During the first quarter of fiscal 2025, our Latin America market unit moved from Growth Markets to North America. \\nWith this change, North America became the Americas market and Growth Markets became the Asia Pacific market. \\nPrior period amounts have been reclassified to conform with the current period presentation.'), Document(metadata={'source': 'accenture (1).pdf', 'file_path': 'accenture (1).pdf', 'page': 3, 'total_pages': 11, 'format': 'PDF 1.6', 'title': 'FY25 Q1 Earnings 8-K Exhibit', 'author': 'anonymous', 'subject': '', 'keywords': '', 'creator': 'Workiva', 'producer': 'Wdesk Fidelity Content Translations Version 010.008.040', 'creationDate': 'D:20241218201405Z', 'modDate': \"D:20241219115942-05'00'\", 'trapped': ''}, page_content='Accenture plc has declared another quarterly cash dividend of $1.48 per share for shareholders \\nof record at the close of business on January 16, 2025. This dividend, which is payable on \\nFebruary 14, 2025, represents a 15% increase over the quarterly dividend rate of $1.29 per \\nshare in fiscal 2024.\\nShare Repurchase Activity\\nDuring the first quarter of fiscal 2025, Accenture repurchased or redeemed 2.5 million shares for \\na total of $898 million, including approximately 2.2 million shares repurchased in the open \\nmarket.\\nAccenture’s total remaining share repurchase authority at November 30, 2024 was \\napproximately $5.9 billion. \\nAt November 30, 2024, Accenture had approximately 626 million total shares outstanding.\\nBusiness Outlook\\nSecond Quarter Fiscal 2025\\nAccenture expects revenues for the second quarter of fiscal 2025 to be in the range of $16.2 \\nbillion to $16.8 billion, or 5% to 9% growth in local currency, reflecting the company’s'), Document(metadata={'source': 'accenture (1).pdf', 'file_path': 'accenture (1).pdf', 'page': 3, 'total_pages': 11, 'format': 'PDF 1.6', 'title': 'FY25 Q1 Earnings 8-K Exhibit', 'author': 'anonymous', 'subject': '', 'keywords': '', 'creator': 'Workiva', 'producer': 'Wdesk Fidelity Content Translations Version 010.008.040', 'creationDate': 'D:20241218201405Z', 'modDate': \"D:20241219115942-05'00'\", 'trapped': ''}, page_content='billion to $16.8 billion, or 5% to 9% growth in local currency, reflecting the company’s \\nassumption of an approximately negative 2.5% foreign-exchange impact compared with the \\nsecond quarter of fiscal 2024.\\nFiscal Year 2025\\nAccenture’s business outlook for fiscal 2025 now assumes that the foreign-exchange impact on \\nits results in U.S. dollars will be approximately negative 0.5% compared with fiscal 2024; the \\ncompany previously expected the impact to be positive 1.5%.\\nFor fiscal 2025, the company raises revenue growth to be in the range of 4% to 7% in local \\ncurrency, compared to 3% to 6% previously.\\nAccenture continues to expect GAAP operating margin for fiscal 2025 to be in the range of \\n15.6% to 15.8%, an expansion of 80 to 100 basis points from fiscal 2024 GAAP operating \\nmargin, and an expansion of 10 to 30 basis points from fiscal 2024 adjusted operating margin, \\nwhich excludes $438 million for business optimization costs.'), Document(metadata={'source': 'accenture (1).pdf', 'file_path': 'accenture (1).pdf', 'page': 3, 'total_pages': 11, 'format': 'PDF 1.6', 'title': 'FY25 Q1 Earnings 8-K Exhibit', 'author': 'anonymous', 'subject': '', 'keywords': '', 'creator': 'Workiva', 'producer': 'Wdesk Fidelity Content Translations Version 010.008.040', 'creationDate': 'D:20241218201405Z', 'modDate': \"D:20241219115942-05'00'\", 'trapped': ''}, page_content='which excludes $438 million for business optimization costs.\\nThe company continues to expect its annual effective tax rate to be in the range of 22.5% to \\n24.5%.\\nReflecting its increased revenue outlook and revised foreign-exchange assumption, the \\ncompany now expects GAAP diluted EPS for fiscal 2025 to be in the range of $12.43 to $12.79, \\ncompared to $12.55 to $12.91 previously, an increase of 9% to 12% over fiscal 2024 GAAP \\ndiluted EPS of $11.44, and an increase of 4% to 7% over adjusted EPS of $11.95, which \\nexcludes $0.51 for business optimization costs.\\nFor fiscal 2025, the company continues to expect operating cash flow to be in the range of $9.4 \\nbillion to $10.1 billion; property and equipment additions to be $600 million; and free cash flow to \\nbe in the range of $8.8 billion to $9.5 billion.\\nThe company continues to expect to return at least $8.3 billion in cash to shareholders through \\ndividends and share repurchases.'), Document(metadata={'source': 'accenture (1).pdf', 'file_path': 'accenture (1).pdf', 'page': 4, 'total_pages': 11, 'format': 'PDF 1.6', 'title': 'FY25 Q1 Earnings 8-K Exhibit', 'author': 'anonymous', 'subject': '', 'keywords': '', 'creator': 'Workiva', 'producer': 'Wdesk Fidelity Content Translations Version 010.008.040', 'creationDate': 'D:20241218201405Z', 'modDate': \"D:20241219115942-05'00'\", 'trapped': ''}, page_content='360° Value Reporting\\nAccenture’s goal is to create 360° value for our clients, people, shareholders, partners and \\ncommunities. Our reporting captures how we deliver unique value across six vital dimensions \\nand offers a comprehensive view of our financial and environmental, social and governance \\n(ESG) measures, and our goals, progress and performance for each. Our full 360° Value Report \\nand online 360° Value Reporting Experience provide customizable reporting. To access, please \\nvisit the Accenture 360° Value Reporting Experience at accenture.com/reportingexperience.\\nConference Call and Webcast Details\\nAccenture will host a conference call at 8:00 a.m. EST today to discuss its first quarter of fiscal \\n2025 financial results. To participate in the teleconference, please dial +1 (877) 883-0383 [+1 \\n(412) 317-6061 outside the U.S., Puerto Rico and Canada] and enter access code 4670148\\napproximately 15 minutes before the scheduled start of the call. The conference call will also be'), Document(metadata={'source': 'accenture (1).pdf', 'file_path': 'accenture (1).pdf', 'page': 4, 'total_pages': 11, 'format': 'PDF 1.6', 'title': 'FY25 Q1 Earnings 8-K Exhibit', 'author': 'anonymous', 'subject': '', 'keywords': '', 'creator': 'Workiva', 'producer': 'Wdesk Fidelity Content Translations Version 010.008.040', 'creationDate': 'D:20241218201405Z', 'modDate': \"D:20241219115942-05'00'\", 'trapped': ''}, page_content='approximately 15 minutes before the scheduled start of the call. The conference call will also be\\naccessible live via webcast on the Investor Relations section of the Accenture website at\\naccenture.com.\\nA replay of the conference call will be available at accenture.com and at +1 (877) 344-7529 [+1 \\n(412) 317-0088 outside the U.S., Puerto Rico and Canada] with access code 9624330, from\\n11:00 a.m. EST today, through Wednesday, March 19, 2025.\\nAbout Accenture\\nAccenture is a leading global professional services company that helps the world’s leading \\nbusinesses, governments and other organizations build their digital core, optimize their \\noperations, accelerate revenue growth and enhance citizen services—creating tangible value at \\nspeed and scale. We are a talent- and innovation-led company with approximately 799,000 \\npeople serving clients in more than 120 countries. Technology is at the core of change today,'), Document(metadata={'source': 'accenture (1).pdf', 'file_path': 'accenture (1).pdf', 'page': 4, 'total_pages': 11, 'format': 'PDF 1.6', 'title': 'FY25 Q1 Earnings 8-K Exhibit', 'author': 'anonymous', 'subject': '', 'keywords': '', 'creator': 'Workiva', 'producer': 'Wdesk Fidelity Content Translations Version 010.008.040', 'creationDate': 'D:20241218201405Z', 'modDate': \"D:20241219115942-05'00'\", 'trapped': ''}, page_content='people serving clients in more than 120 countries. Technology is at the core of change today, \\nand we are one of the world’s leaders in helping drive that change, with strong ecosystem \\nrelationships. We combine our strength in technology and leadership in cloud, data and AI with \\nunmatched industry experience, functional expertise and global delivery capability. Our broad \\nrange of services, solutions and assets across Strategy & Consulting, Technology, Operations, \\nIndustry X and Song, together with our culture of shared success and commitment to creating \\n360° value, enable us to help our clients reinvent and build trusted, lasting relationships. We \\nmeasure our success by the 360° value we create for our clients, each other, our shareholders, \\npartners and communities. Visit us at accenture.com.\\nNon-GAAP Financial Information\\nThis news release includes certain non-GAAP financial information as defined by Securities and Exchange'), Document(metadata={'source': 'accenture (1).pdf', 'file_path': 'accenture (1).pdf', 'page': 4, 'total_pages': 11, 'format': 'PDF 1.6', 'title': 'FY25 Q1 Earnings 8-K Exhibit', 'author': 'anonymous', 'subject': '', 'keywords': '', 'creator': 'Workiva', 'producer': 'Wdesk Fidelity Content Translations Version 010.008.040', 'creationDate': 'D:20241218201405Z', 'modDate': \"D:20241219115942-05'00'\", 'trapped': ''}, page_content='Non-GAAP Financial Information\\nThis news release includes certain non-GAAP financial information as defined by Securities and Exchange \\nCommission Regulation G. Pursuant to the requirements of this regulation, reconciliations of this non-GAAP financial \\ninformation to Accenture’s financial statements as prepared under generally accepted accounting principles (GAAP) \\nare included in this press release. Financial results “in local currency” are calculated by restating current-period \\nactivity into U.S. dollars using the comparable prior-year period’s foreign-currency exchange rates. Accenture’s \\nmanagement believes providing investors with this information gives additional insights into Accenture’s results of \\noperations. While Accenture’s management believes that the non-GAAP financial measures herein are useful in \\nevaluating Accenture’s operations, this information should be considered as supplemental in nature and not as a'), Document(metadata={'source': 'accenture (1).pdf', 'file_path': 'accenture (1).pdf', 'page': 4, 'total_pages': 11, 'format': 'PDF 1.6', 'title': 'FY25 Q1 Earnings 8-K Exhibit', 'author': 'anonymous', 'subject': '', 'keywords': '', 'creator': 'Workiva', 'producer': 'Wdesk Fidelity Content Translations Version 010.008.040', 'creationDate': 'D:20241218201405Z', 'modDate': \"D:20241219115942-05'00'\", 'trapped': ''}, page_content='evaluating Accenture’s operations, this information should be considered as supplemental in nature and not as a \\nsubstitute for the related financial information prepared in accordance with GAAP. Accenture provides full-year \\nrevenue guidance on a local-currency basis and not in U.S. dollars because the impact of foreign exchange rate \\nfluctuations could vary significantly from the company’s stated assumptions. \\nForward-Looking Statements\\nExcept for the historical information and discussions contained herein, statements in this news release may constitute \\nforward-looking statements within the meaning of the Private Securities Litigation Reform Act of 1995. Words such as \\n“may,” “will,” “should,” “likely,” “anticipates,” “aspires,” “expects,” “intends,” “plans,” “projects,” “believes,” “estimates,” \\n“positioned,” “outlook,” “goal,” “target,” and similar expressions are used to identify these forward-looking statements.'), Document(metadata={'source': 'accenture (1).pdf', 'file_path': 'accenture (1).pdf', 'page': 5, 'total_pages': 11, 'format': 'PDF 1.6', 'title': 'FY25 Q1 Earnings 8-K Exhibit', 'author': 'anonymous', 'subject': '', 'keywords': '', 'creator': 'Workiva', 'producer': 'Wdesk Fidelity Content Translations Version 010.008.040', 'creationDate': 'D:20241218201405Z', 'modDate': \"D:20241219115942-05'00'\", 'trapped': ''}, page_content='These statements are not guarantees of future performance nor promises that goals or targets will be met, and \\ninvolve a number of risks, uncertainties and other factors that are difficult to predict and could cause actual results to \\ndiffer materially from those expressed or implied. These risks include, without limitation, risks that: Accenture’s results \\nof operations have been, and may in the future be, adversely affected by volatile, negative or uncertain economic and \\ngeopolitical conditions and the effects of these conditions on the company’s clients’ businesses and levels of business \\nactivity; Accenture’s business depends on generating and maintaining client demand for the company’s services and \\nsolutions including through the adaptation and expansion of its services and solutions in response to ongoing \\nchanges in technology and offerings, and a significant reduction in such demand or an inability to respond to the'), Document(metadata={'source': 'accenture (1).pdf', 'file_path': 'accenture (1).pdf', 'page': 5, 'total_pages': 11, 'format': 'PDF 1.6', 'title': 'FY25 Q1 Earnings 8-K Exhibit', 'author': 'anonymous', 'subject': '', 'keywords': '', 'creator': 'Workiva', 'producer': 'Wdesk Fidelity Content Translations Version 010.008.040', 'creationDate': 'D:20241218201405Z', 'modDate': \"D:20241219115942-05'00'\", 'trapped': ''}, page_content='changes in technology and offerings, and a significant reduction in such demand or an inability to respond to the \\nevolving technological environment could materially affect the company’s results of operations; risks and uncertainties \\nrelated to the development and use of AI could harm our business, damage our reputation or give rise to legal or \\nregulatory action; if Accenture is unable to match people and their skills with client demand around the world and \\nattract and retain professionals with strong leadership skills, the company’s business, the utilization rate of the \\ncompany’s professionals and the company’s results of operations may be materially adversely affected; Accenture \\nfaces legal, reputational and financial risks from any failure to protect client and/or company data from security \\nincidents or cyberattacks; the markets in which Accenture operates are highly competitive, and Accenture might not'), Document(metadata={'source': 'accenture (1).pdf', 'file_path': 'accenture (1).pdf', 'page': 5, 'total_pages': 11, 'format': 'PDF 1.6', 'title': 'FY25 Q1 Earnings 8-K Exhibit', 'author': 'anonymous', 'subject': '', 'keywords': '', 'creator': 'Workiva', 'producer': 'Wdesk Fidelity Content Translations Version 010.008.040', 'creationDate': 'D:20241218201405Z', 'modDate': \"D:20241219115942-05'00'\", 'trapped': ''}, page_content='incidents or cyberattacks; the markets in which Accenture operates are highly competitive, and Accenture might not \\nbe able to compete effectively; Accenture’s ability to attract and retain business and employees may depend on its \\nreputation in the marketplace; if Accenture does not successfully manage and develop its relationships with key \\necosystem partners or fails to anticipate and establish new alliances in new technologies, the company’s results of \\noperations could be adversely affected; Accenture’s profitability could materially suffer due to pricing pressure, if the \\ncompany is unable to remain competitive, if its cost-management strategies are unsuccessful or if it experiences \\ndelivery inefficiencies or fail to satisfy certain agreed-upon targets or specific service levels; changes in Accenture’s \\nlevel of taxes, as well as audits, investigations and tax proceedings, or changes in tax laws or in their interpretation or'), Document(metadata={'source': 'accenture (1).pdf', 'file_path': 'accenture (1).pdf', 'page': 5, 'total_pages': 11, 'format': 'PDF 1.6', 'title': 'FY25 Q1 Earnings 8-K Exhibit', 'author': 'anonymous', 'subject': '', 'keywords': '', 'creator': 'Workiva', 'producer': 'Wdesk Fidelity Content Translations Version 010.008.040', 'creationDate': 'D:20241218201405Z', 'modDate': \"D:20241219115942-05'00'\", 'trapped': ''}, page_content=\"level of taxes, as well as audits, investigations and tax proceedings, or changes in tax laws or in their interpretation or \\nenforcement, could have a material adverse effect on the company’s effective tax rate, results of operations, cash \\nflows and financial condition; Accenture’s results of operations could be materially adversely affected by fluctuations \\nin foreign currency exchange rates; Accenture's debt obligations could adversely affect our business and financial \\ncondition; changes to accounting standards or in the estimates and assumptions Accenture makes in connection with \\nthe preparation of its consolidated financial statements could adversely affect its financial results; as a result of \\nAccenture’s geographically diverse operations and our strategy to continue to grow in our key markets around the \\nworld, the company is more susceptible to certain risks; if Accenture is unable to manage the organizational\"), Document(metadata={'source': 'accenture (1).pdf', 'file_path': 'accenture (1).pdf', 'page': 5, 'total_pages': 11, 'format': 'PDF 1.6', 'title': 'FY25 Q1 Earnings 8-K Exhibit', 'author': 'anonymous', 'subject': '', 'keywords': '', 'creator': 'Workiva', 'producer': 'Wdesk Fidelity Content Translations Version 010.008.040', 'creationDate': 'D:20241218201405Z', 'modDate': \"D:20241219115942-05'00'\", 'trapped': ''}, page_content='world, the company is more susceptible to certain risks; if Accenture is unable to manage the organizational \\nchallenges associated with its size, the company might be unable to achieve its business objectives; Accenture might \\nnot be successful at acquiring, investing in or integrating businesses, entering into joint ventures or divesting \\nbusinesses; Accenture’s business could be materially adversely affected if the company incurs legal liability; \\nAccenture’s global operations expose the company to numerous and sometimes conflicting legal and regulatory \\nrequirements; Accenture’s work with government clients exposes the company to additional risks inherent in the \\ngovernment contracting environment; if Accenture is unable to protect or enforce its intellectual property rights or if \\nAccenture’s services or solutions infringe upon the intellectual property rights of others or the company loses its ability'), Document(metadata={'source': 'accenture (1).pdf', 'file_path': 'accenture (1).pdf', 'page': 5, 'total_pages': 11, 'format': 'PDF 1.6', 'title': 'FY25 Q1 Earnings 8-K Exhibit', 'author': 'anonymous', 'subject': '', 'keywords': '', 'creator': 'Workiva', 'producer': 'Wdesk Fidelity Content Translations Version 010.008.040', 'creationDate': 'D:20241218201405Z', 'modDate': \"D:20241219115942-05'00'\", 'trapped': ''}, page_content='Accenture’s services or solutions infringe upon the intellectual property rights of others or the company loses its ability \\nto utilize the intellectual property of others, its business could be adversely affected; Accenture may be subject to \\ncriticism and negative publicity related to its incorporation in Ireland; as well as the risks, uncertainties and other \\nfactors discussed under the “Risk Factors” heading in Accenture plc’s most recent Annual Report on Form 10-K and \\nother documents filed with or furnished to the Securities and Exchange Commission. Statements in this news release \\nspeak only as of the date they were made, and Accenture undertakes no duty to update any forward-looking \\nstatements made in this news release or to conform such statements to actual results or changes in Accenture’s \\nexpectations.\\n# # #\\nContacts:\\nRachel Frey\\nAccenture Media Relations\\n+1 917 452 4421\\nrachel.frey@accenture.com\\nKatie O’Conor\\nAccenture Investor Relations\\n+1 973 301 3275'), Document(metadata={'source': 'accenture (1).pdf', 'file_path': 'accenture (1).pdf', 'page': 5, 'total_pages': 11, 'format': 'PDF 1.6', 'title': 'FY25 Q1 Earnings 8-K Exhibit', 'author': 'anonymous', 'subject': '', 'keywords': '', 'creator': 'Workiva', 'producer': 'Wdesk Fidelity Content Translations Version 010.008.040', 'creationDate': 'D:20241218201405Z', 'modDate': \"D:20241219115942-05'00'\", 'trapped': ''}, page_content='Contacts:\\nRachel Frey\\nAccenture Media Relations\\n+1 917 452 4421\\nrachel.frey@accenture.com\\nKatie O’Conor\\nAccenture Investor Relations\\n+1 973 301 3275\\ncatherine.m.oconor@accenture.com'), Document(metadata={'source': 'accenture (1).pdf', 'file_path': 'accenture (1).pdf', 'page': 6, 'total_pages': 11, 'format': 'PDF 1.6', 'title': 'FY25 Q1 Earnings 8-K Exhibit', 'author': 'anonymous', 'subject': '', 'keywords': '', 'creator': 'Workiva', 'producer': 'Wdesk Fidelity Content Translations Version 010.008.040', 'creationDate': 'D:20241218201405Z', 'modDate': \"D:20241219115942-05'00'\", 'trapped': ''}, page_content='Accenture plc\\nConsolidated Income Statements\\n(In thousands of U.S. dollars, except share and per share amounts)\\n(Unaudited)\\nThree Months Ended\\nNovember 30, \\n2024\\n% of \\nRevenues\\nNovember 30, \\n2023\\n% of \\nRevenues\\nREVENUES:\\nRevenues \\n$ \\n17,689,545 \\n 100.0 %\\n$ \\n16,224,303 \\n 100.0 %\\nOPERATING EXPENSES:\\nCost of services \\n11,866,716 \\n 67.1 %\\n10,776,362 \\n 66.4 %\\nSales and marketing \\n1,811,109 \\n 10.2 %\\n1,709,891 \\n 10.5 %\\nGeneral and administrative costs \\n1,063,243 \\n 6.0 %\\n1,033,499 \\n 6.4 %\\nBusiness optimization costs\\n— \\n — %\\n139,664 \\n 0.9 %\\nTotal operating expenses\\n14,741,068 \\n13,659,416 \\nOPERATING INCOME\\n2,948,477 \\n 16.7 %\\n2,564,887 \\n 15.8 %\\nInterest income\\n76,027 \\n101,980 \\nInterest expense\\n(30,042) \\n(14,495) \\nOther income (expense), net \\n(39,217) \\n(35,719) \\nINCOME BEFORE INCOME TAXES\\n2,955,245 \\n 16.7 %\\n2,616,653 \\n 16.1 %\\nIncome tax expense\\n639,055 \\n606,672 \\nNET INCOME\\n2,316,190 \\n 13.1 %\\n2,009,981 \\n 12.4 %\\nNet income attributable to noncontrolling interest in Accenture Canada Holdings Inc.'), Document(metadata={'source': 'accenture (1).pdf', 'file_path': 'accenture (1).pdf', 'page': 6, 'total_pages': 11, 'format': 'PDF 1.6', 'title': 'FY25 Q1 Earnings 8-K Exhibit', 'author': 'anonymous', 'subject': '', 'keywords': '', 'creator': 'Workiva', 'producer': 'Wdesk Fidelity Content Translations Version 010.008.040', 'creationDate': 'D:20241218201405Z', 'modDate': \"D:20241219115942-05'00'\", 'trapped': ''}, page_content='606,672 \\nNET INCOME\\n2,316,190 \\n 13.1 %\\n2,009,981 \\n 12.4 %\\nNet income attributable to noncontrolling interest in Accenture Canada Holdings Inc.\\n(2,170) \\n(2,016) \\nNet income attributable to noncontrolling interests – other (1)\\n(35,126) \\n(34,521) \\nNET INCOME ATTRIBUTABLE TO ACCENTURE PLC\\n$ \\n2,278,894 \\n 12.9 %\\n$ \\n1,973,444 \\n 12.2 %\\nCALCULATION OF EARNINGS PER SHARE:\\nNet income attributable to Accenture plc\\n$ \\n2,278,894 \\n$ \\n1,973,444 \\nNet income attributable to noncontrolling interest in Accenture Canada Holdings Inc. (2)\\n2,170 \\n2,016 \\nNet income for diluted earnings per share calculation\\n$ \\n2,281,064 \\n$ \\n1,975,460 \\nWEIGHTED AVERAGE SHARES:\\nBasic\\n625,676,922 \\n627,996,111 \\nDiluted\\n634,656,410 \\n637,398,361 \\nEARNINGS PER SHARE:\\nBasic\\n$ \\n3.64 \\n$ \\n3.14 \\nDiluted\\n$ \\n3.59 \\n$ \\n3.10 \\nCash dividends per share\\n$ \\n1.48 \\n$ \\n1.29 \\n(1)\\nComprised primarily of noncontrolling interest attributable to the noncontrolling shareholders of Avanade, Inc.\\n(2)'), Document(metadata={'source': 'accenture (1).pdf', 'file_path': 'accenture (1).pdf', 'page': 6, 'total_pages': 11, 'format': 'PDF 1.6', 'title': 'FY25 Q1 Earnings 8-K Exhibit', 'author': 'anonymous', 'subject': '', 'keywords': '', 'creator': 'Workiva', 'producer': 'Wdesk Fidelity Content Translations Version 010.008.040', 'creationDate': 'D:20241218201405Z', 'modDate': \"D:20241219115942-05'00'\", 'trapped': ''}, page_content='$ \\n1.48 \\n$ \\n1.29 \\n(1)\\nComprised primarily of noncontrolling interest attributable to the noncontrolling shareholders of Avanade, Inc.\\n(2)\\nDiluted earnings per share assumes the exchange of all Accenture Canada Holdings Inc. exchangeable shares for Accenture plc Class A ordinary shares on\\na one-for-one basis. The income effect does not take into account “Net income attributable to noncontrolling interests — other,” since those shares are not\\nredeemable or exchangeable for Accenture plc Class A ordinary shares.'), Document(metadata={'source': 'accenture (1).pdf', 'file_path': 'accenture (1).pdf', 'page': 7, 'total_pages': 11, 'format': 'PDF 1.6', 'title': 'FY25 Q1 Earnings 8-K Exhibit', 'author': 'anonymous', 'subject': '', 'keywords': '', 'creator': 'Workiva', 'producer': 'Wdesk Fidelity Content Translations Version 010.008.040', 'creationDate': 'D:20241218201405Z', 'modDate': \"D:20241219115942-05'00'\", 'trapped': ''}, page_content='Accenture plc\\nSummary of Revenues\\n(In thousands of U.S. dollars)\\n(Unaudited)\\nThree Months Ended\\nPercent\\nIncrease \\nU.S.\\nDollars\\nPercent\\nIncrease  \\nLocal\\nCurrency\\nNovember 30, 2024\\nNovember 30, 2023\\nGEOGRAPHIC MARKETS\\nAmericas (1)\\n$ \\n8,733,095 \\n$ \\n8,026,972 \\n 9 %\\n 11 %\\nEMEA\\n6,411,952 \\n5,803,642 \\n 10 \\n 6 \\nAsia Pacific (1)\\n2,544,498 \\n2,393,689 \\n 6 \\n 4 \\nTotal Revenues\\n$ \\n17,689,545 \\n$ \\n16,224,303 \\n 9 %\\n 8 %\\nINDUSTRY GROUPS\\nCommunications, Media & Technology \\n$ \\n2,857,885 \\n$ \\n2,669,448 \\n 7 %\\n 7 %\\nFinancial Services\\n3,168,835 \\n3,033,578 \\n 4 \\n 4 \\nHealth & Public Service\\n3,812,609 \\n3,377,466 \\n 13 \\n 12 \\nProducts\\n5,425,317 \\n4,859,987 \\n 12 \\n 10 \\nResources \\n2,424,899 \\n2,283,824 \\n 6 \\n 6 \\nTotal Revenues\\n$ \\n17,689,545 \\n$ \\n16,224,303 \\n 9 %\\n 8 %\\nTYPE OF WORK\\nConsulting\\n$ \\n9,045,228 \\n$ \\n8,456,506 \\n 7 %\\n 6 %\\nManaged Services\\n8,644,317 \\n7,767,797 \\n 11 \\n 11 \\nTotal Revenues\\n$ \\n17,689,545 \\n$ \\n16,224,303 \\n 9 %\\n 8 %\\n(1)'), Document(metadata={'source': 'accenture (1).pdf', 'file_path': 'accenture (1).pdf', 'page': 7, 'total_pages': 11, 'format': 'PDF 1.6', 'title': 'FY25 Q1 Earnings 8-K Exhibit', 'author': 'anonymous', 'subject': '', 'keywords': '', 'creator': 'Workiva', 'producer': 'Wdesk Fidelity Content Translations Version 010.008.040', 'creationDate': 'D:20241218201405Z', 'modDate': \"D:20241219115942-05'00'\", 'trapped': ''}, page_content='$ \\n9,045,228 \\n$ \\n8,456,506 \\n 7 %\\n 6 %\\nManaged Services\\n8,644,317 \\n7,767,797 \\n 11 \\n 11 \\nTotal Revenues\\n$ \\n17,689,545 \\n$ \\n16,224,303 \\n 9 %\\n 8 %\\n(1)\\nDuring the first quarter of fiscal 2025, our Latin America market unit moved from Growth Markets to North America. With this change, North America became\\nthe Americas market and Growth Markets became the Asia Pacific market. Prior period amounts have been reclassified to conform with the current period\\npresentation.\\nAccenture plc\\nOperating Income by Geographic Market\\n(In thousands of U.S. dollars)\\n(Unaudited)\\nThree Months Ended\\nNovember 30, 2024\\nNovember 30, 2023\\nOperating\\nIncome\\nOperating\\nMargin\\nOperating\\nIncome\\nOperating\\nMargin\\nIncrease \\nAmericas (1)\\n$ 1,377,234 \\n 16 %\\n$ 1,292,981 \\n 16 %\\n$ \\n84,253 \\nEMEA \\n1,035,977 \\n 16 \\n823,601 \\n 14 \\n212,376 \\nAsia Pacific (1) \\n535,266 \\n 21 \\n448,305 \\n 19 \\n86,961 \\nTotal Operating Income\\n$ 2,948,477 \\n 16.7 %\\n$ 2,564,887 \\n 15.8 %\\n$ \\n383,590 \\n(1)'), Document(metadata={'source': 'accenture (1).pdf', 'file_path': 'accenture (1).pdf', 'page': 7, 'total_pages': 11, 'format': 'PDF 1.6', 'title': 'FY25 Q1 Earnings 8-K Exhibit', 'author': 'anonymous', 'subject': '', 'keywords': '', 'creator': 'Workiva', 'producer': 'Wdesk Fidelity Content Translations Version 010.008.040', 'creationDate': 'D:20241218201405Z', 'modDate': \"D:20241219115942-05'00'\", 'trapped': ''}, page_content='14 \\n212,376 \\nAsia Pacific (1) \\n535,266 \\n 21 \\n448,305 \\n 19 \\n86,961 \\nTotal Operating Income\\n$ 2,948,477 \\n 16.7 %\\n$ 2,564,887 \\n 15.8 %\\n$ \\n383,590 \\n(1)\\nDuring the first quarter of fiscal 2025, our Latin America market unit moved from Growth Markets to North America. With this change, North America became\\nthe Americas market and Growth Markets became the Asia Pacific market. Prior period amounts have been reclassified to conform with the current period\\npresentation.'), Document(metadata={'source': 'accenture (1).pdf', 'file_path': 'accenture (1).pdf', 'page': 8, 'total_pages': 11, 'format': 'PDF 1.6', 'title': 'FY25 Q1 Earnings 8-K Exhibit', 'author': 'anonymous', 'subject': '', 'keywords': '', 'creator': 'Workiva', 'producer': 'Wdesk Fidelity Content Translations Version 010.008.040', 'creationDate': 'D:20241218201405Z', 'modDate': \"D:20241219115942-05'00'\", 'trapped': ''}, page_content='Accenture plc\\nReconciliation of Operating Income, as Reported (GAAP) to Operating Income as Adjusted (Non-GAAP)\\n(In thousands of U.S. dollars)\\n(Unaudited)\\nThree Months Ended\\nNovember 30, 2024\\nNovember 30, 2023\\nAs \\nReported \\n(GAAP)\\nOperating\\nMargin \\n(GAAP)\\nAs \\nReported\\n(GAAP)\\nBusiness \\nOptimization (1)\\nAdjusted \\n(Non-GAAP)\\nOperating\\nMargin \\n(Non-GAAP)\\nIncrease \\n(Non-GAAP)\\nAmericas (2)\\n$ 1,377,234 \\n 16 %\\n$ 1,292,981 $ \\n50,055 $ 1,343,036 \\n 17 % $ \\n34,198 \\nEMEA\\n1,035,977 \\n 16 \\n823,601 \\n70,804 \\n894,405 \\n 15 \\n141,572 \\nAsia Pacific (2)\\n535,266 \\n 21 \\n448,305 \\n18,805 \\n467,110 \\n 20 \\n68,156 \\nTotal Operating Income\\n$ 2,948,477 \\n 16.7 %\\n$ 2,564,887 $ \\n139,664 $ 2,704,551 \\n 16.7 % $ \\n243,926 \\n(1)\\nCosts recorded in connection with our business optimization initiatives, primarily for employee severance.\\n(2)\\nDuring the first quarter of fiscal 2025, our Latin America market unit moved from Growth Markets to North America. With this change, North America became'), Document(metadata={'source': 'accenture (1).pdf', 'file_path': 'accenture (1).pdf', 'page': 8, 'total_pages': 11, 'format': 'PDF 1.6', 'title': 'FY25 Q1 Earnings 8-K Exhibit', 'author': 'anonymous', 'subject': '', 'keywords': '', 'creator': 'Workiva', 'producer': 'Wdesk Fidelity Content Translations Version 010.008.040', 'creationDate': 'D:20241218201405Z', 'modDate': \"D:20241219115942-05'00'\", 'trapped': ''}, page_content='the Americas market and Growth Markets became the Asia Pacific market. Prior period amounts have been reclassified to conform with the current period\\npresentation.\\nAccenture plc\\nReconciliation of Net Income and Diluted Earnings Per Share, as Reported (GAAP), to Net Income and \\nDiluted Earnings Per Share, as Adjusted (Non-GAAP) \\n(In thousands of U.S. dollars, except per share amounts)\\n(Unaudited)\\nThree Months Ended\\nNovember 30, 2024\\nNovember 30, 2023\\nAs Reported \\n(GAAP)\\nAs Reported \\n(GAAP)\\nBusiness \\nOptimization (1)\\nAdjusted   \\n(Non-GAAP)\\nOperating Income\\n$ \\n2,948,477 \\n$ 2,564,887 \\n$ \\n139,664 \\n$ 2,704,551 \\nOperating Margin\\n 16.7 %\\n 15.8 %\\n 0.9 %\\n 16.7 %\\nIncome before income taxes\\n2,955,245 \\n2,616,653 \\n139,664 \\n2,756,317 \\nIncome tax expense\\n639,055 \\n606,672 \\n33,978 \\n640,650 \\nNet Income\\n$ \\n2,316,190 \\n$ 2,009,981 \\n$ \\n105,686 \\n$ 2,115,667 \\nEffective tax rate\\n 21.6 %\\n 23.2 %\\n 24.3 %\\n 23.2 %\\nDiluted earnings per share (2)\\n$ \\n3.59 \\n$ \\n3.10 \\n$ \\n0.17 \\n$ \\n3.27 \\n(1)'), Document(metadata={'source': 'accenture (1).pdf', 'file_path': 'accenture (1).pdf', 'page': 8, 'total_pages': 11, 'format': 'PDF 1.6', 'title': 'FY25 Q1 Earnings 8-K Exhibit', 'author': 'anonymous', 'subject': '', 'keywords': '', 'creator': 'Workiva', 'producer': 'Wdesk Fidelity Content Translations Version 010.008.040', 'creationDate': 'D:20241218201405Z', 'modDate': \"D:20241219115942-05'00'\", 'trapped': ''}, page_content='$ \\n105,686 \\n$ 2,115,667 \\nEffective tax rate\\n 21.6 %\\n 23.2 %\\n 24.3 %\\n 23.2 %\\nDiluted earnings per share (2)\\n$ \\n3.59 \\n$ \\n3.10 \\n$ \\n0.17 \\n$ \\n3.27 \\n(1)\\nCosts recorded in connection with our business optimization initiatives, primarily for employee severance.\\n(2)\\nThe impact of the business optimization costs on diluted earnings per share are presented net of related taxes. The income tax effect was negative $0.05\\nfor the three months ended November 30, 2023. This includes both the current and deferred income tax impact and was calculated by using the relevant tax\\nrate of the country where the costs were recorded.'), Document(metadata={'source': 'accenture (1).pdf', 'file_path': 'accenture (1).pdf', 'page': 9, 'total_pages': 11, 'format': 'PDF 1.6', 'title': 'FY25 Q1 Earnings 8-K Exhibit', 'author': 'anonymous', 'subject': '', 'keywords': '', 'creator': 'Workiva', 'producer': 'Wdesk Fidelity Content Translations Version 010.008.040', 'creationDate': 'D:20241218201405Z', 'modDate': \"D:20241219115942-05'00'\", 'trapped': ''}, page_content='Accenture plc\\nConsolidated Balance Sheets\\n(In thousands of U.S. dollars)\\nNovember 30, 2024\\nAugust 31, 2024\\nASSETS\\n(Unaudited)\\nCURRENT ASSETS:\\nCash and cash equivalents\\n$ \\n8,306,055 \\n$ \\n5,004,469 \\nShort-term investments\\n5,150 \\n5,396 \\nReceivables and contract assets\\n14,574,637 \\n13,664,847 \\nOther current assets\\n2,312,495 \\n2,183,069 \\nTotal current assets\\n25,198,337 \\n20,857,781 \\nNON-CURRENT ASSETS:\\nContract assets\\n128,981 \\n120,260 \\nInvestments\\n371,507 \\n334,664 \\nProperty and equipment, net\\n1,507,460 \\n1,521,119 \\nLease assets\\n2,669,480 \\n2,757,396 \\nGoodwill\\n20,868,911 \\n21,120,179 \\nOther non-current assets\\n9,123,394 \\n9,220,964 \\nTotal non-current assets\\n34,669,733 \\n35,074,582 \\nTOTAL ASSETS\\n$ \\n59,868,070 \\n$ \\n55,932,363 \\nLIABILITIES AND SHAREHOLDERS’ EQUITY\\nCURRENT LIABILITIES:\\nCurrent portion of long-term debt and bank borrowings\\n$ \\n114,321 \\n$ \\n946,229 \\nAccounts payable\\n2,579,165 \\n2,743,807 \\nDeferred revenues\\n4,711,553 \\n5,174,923 \\nAccrued payroll and related benefits\\n6,602,324 \\n7,050,833'), Document(metadata={'source': 'accenture (1).pdf', 'file_path': 'accenture (1).pdf', 'page': 9, 'total_pages': 11, 'format': 'PDF 1.6', 'title': 'FY25 Q1 Earnings 8-K Exhibit', 'author': 'anonymous', 'subject': '', 'keywords': '', 'creator': 'Workiva', 'producer': 'Wdesk Fidelity Content Translations Version 010.008.040', 'creationDate': 'D:20241218201405Z', 'modDate': \"D:20241219115942-05'00'\", 'trapped': ''}, page_content='$ \\n946,229 \\nAccounts payable\\n2,579,165 \\n2,743,807 \\nDeferred revenues\\n4,711,553 \\n5,174,923 \\nAccrued payroll and related benefits\\n6,602,324 \\n7,050,833 \\nLease liabilities\\n709,964 \\n726,202 \\nOther accrued liabilities\\n2,469,641 \\n2,334,133 \\nTotal current liabilities\\n17,186,968 \\n18,976,127 \\nNON-CURRENT LIABILITIES:\\nLong-term debt\\n5,039,460 \\n78,628 \\nLease liabilities\\n2,282,652 \\n2,369,490 \\nOther non-current liabilities\\n5,256,567 \\n5,339,870 \\nTotal non-current liabilities\\n12,578,679 \\n7,787,988 \\nTotal Accenture plc shareholders’ equity\\n29,190,495 \\n28,288,646 \\nNoncontrolling interest\\n911,928 \\n879,602 \\nTotal shareholders’ equity\\n30,102,423 \\n29,168,248 \\nTOTAL LIABILITIES AND SHAREHOLDERS’ EQUITY\\n$ \\n59,868,070 \\n$ \\n55,932,363'), Document(metadata={'source': 'accenture (1).pdf', 'file_path': 'accenture (1).pdf', 'page': 10, 'total_pages': 11, 'format': 'PDF 1.6', 'title': 'FY25 Q1 Earnings 8-K Exhibit', 'author': 'anonymous', 'subject': '', 'keywords': '', 'creator': 'Workiva', 'producer': 'Wdesk Fidelity Content Translations Version 010.008.040', 'creationDate': 'D:20241218201405Z', 'modDate': \"D:20241219115942-05'00'\", 'trapped': ''}, page_content='Accenture plc\\nConsolidated Cash Flows Statements\\n(In thousands of U.S. dollars)\\n(Unaudited)\\nThree Months Ended\\nNovember 30, 2024\\nNovember 30, 2023\\nCASH FLOWS FROM OPERATING ACTIVITIES:\\nNet income\\n$ \\n2,316,190 \\n$ \\n2,009,981 \\nDepreciation, amortization and other\\n569,340 \\n521,400 \\nShare-based compensation expense\\n470,425 \\n423,000 \\nChange in assets and liabilities/other, net\\n(2,333,469) \\n(2,455,830) \\nNet cash provided by (used in) operating activities\\n1,022,486 \\n498,551 \\nCASH FLOWS FROM INVESTING ACTIVITIES:\\nPurchases of property and equipment\\n(152,205) \\n(68,933) \\nPurchases of businesses and investments, net of cash acquired\\n(241,560) \\n(788,025) \\nProceeds from the sale of businesses and investments, net of cash transferred\\n5,270 \\n— \\nOther investing, net\\n2,971 \\n1,528 \\nNet cash provided by (used in) investing activities\\n(385,524) \\n(855,430) \\nCASH FLOWS FROM FINANCING ACTIVITIES:\\nProceeds from issuance of ordinary shares\\n477,367 \\n477,434 \\nPurchases of shares\\n(898,264) \\n(1,191,128)'), Document(metadata={'source': 'accenture (1).pdf', 'file_path': 'accenture (1).pdf', 'page': 10, 'total_pages': 11, 'format': 'PDF 1.6', 'title': 'FY25 Q1 Earnings 8-K Exhibit', 'author': 'anonymous', 'subject': '', 'keywords': '', 'creator': 'Workiva', 'producer': 'Wdesk Fidelity Content Translations Version 010.008.040', 'creationDate': 'D:20241218201405Z', 'modDate': \"D:20241219115942-05'00'\", 'trapped': ''}, page_content='CASH FLOWS FROM FINANCING ACTIVITIES:\\nProceeds from issuance of ordinary shares\\n477,367 \\n477,434 \\nPurchases of shares\\n(898,264) \\n(1,191,128) \\nProceeds from (repayments of) debt, net\\n4,129,200 \\n— \\nCash dividends paid\\n(925,558) \\n(810,056) \\nOther financing, net\\n(30,997) \\n(28,163) \\nNet cash provided by (used in) financing activities\\n2,751,748 \\n(1,551,913) \\nEffect of exchange rate changes on cash and cash equivalents\\n(87,124) \\n4,601 \\nNET INCREASE (DECREASE) IN CASH AND CASH EQUIVALENTS\\n3,301,586 \\n(1,904,191) \\nCASH AND CASH EQUIVALENTS, beginning of period\\n5,004,469 \\n9,045,032 \\nCASH AND CASH EQUIVALENTS, end of period\\n$ \\n8,306,055 \\n$ \\n7,140,841')]\n"
          ]
        }
      ]
    },
    {
      "cell_type": "code",
      "source": [
        "def remove_ws(Filedocument):\n",
        "    text = Filedocument.page_content.replace('\\n','')\n",
        "    Filedocument.page_content = text\n",
        "    return Filedocument\n",
        "\n",
        "# applied on the docs\n",
        "docs = [remove_ws(Filedocument) for Filedocument in convertedDocs]"
      ],
      "metadata": {
        "id": "YEoLvwvnYo-8"
      },
      "execution_count": 40,
      "outputs": []
    },
    {
      "cell_type": "code",
      "source": [
        "from google.colab import userdata\n",
        "from langchain_groq import ChatGroq\n",
        "llm = ChatGroq(\n",
        "    temperature=0.9, max_tokens=500,\n",
        "    groq_api_key=userdata.get('groq_api_key_valu'),\n",
        "    model_name=\"llama-3.1-70b-versatile\"\n",
        ")\n",
        "response = llm.invoke(\"Explain about this model and cutt off date \")\n",
        "print(response.content)"
      ],
      "metadata": {
        "colab": {
          "base_uri": "https://localhost:8080/"
        },
        "id": "OHoR8eFBYxLM",
        "outputId": "6b0d4375-90e1-45cd-8a74-81bbead68ce9"
      },
      "execution_count": 41,
      "outputs": [
        {
          "output_type": "stream",
          "name": "stdout",
          "text": [
            "I'm referring to my language model, which is a type of artificial intelligence (AI) designed to process and generate human-like text.\n",
            "\n",
            "**Model Explanation:**\n",
            "My model is a transformer-based language model, specifically a type of recurrent neural network (RNN) designed for natural language processing (NLP) tasks. It's trained on a massive dataset of text from various sources, including books, articles, and online content. This training data allows me to learn patterns, relationships, and structures of language, enabling me to generate human-like text.\n",
            "\n",
            "**Key Features:**\n",
            "\n",
            "1. **Language Understanding:** I can comprehend and interpret human language, including nuances, context, and subtleties.\n",
            "2. **Text Generation:** I can create text based on a given prompt, topic, or style, using my understanding of language patterns and structures.\n",
            "3. **Knowledge Retrieval:** I have been trained on a vast amount of text data, allowing me to retrieve and provide information on a wide range of topics.\n",
            "\n",
            "**Cutoff Date:**\n",
            "My training data is current up to **December 2023**. This means that my knowledge and information may not be entirely up-to-date or reflect events, discoveries, or developments that have occurred after this date. While I can still provide valuable insights and answer questions to the best of my abilities, please keep in mind that my knowledge may not be entirely current.\n",
            "\n",
            "If you have any specific questions or topics you'd like to discuss, I'll do my best to provide helpful and accurate information within my knowledge cutoff date.\n"
          ]
        }
      ]
    },
    {
      "cell_type": "code",
      "source": [
        "from langchain_huggingface import HuggingFaceEmbeddings\n",
        "embeddings = HuggingFaceEmbeddings(model_name=\"sentence-transformers/all-mpnet-base-v2\")\n"
      ],
      "metadata": {
        "id": "1dyKQ8T1Y6TM"
      },
      "execution_count": 42,
      "outputs": []
    },
    {
      "cell_type": "code",
      "source": [
        "from langchain.vectorstores import FAISS\n",
        "vectorindex_Lama = FAISS.from_documents(docs, embeddings)"
      ],
      "metadata": {
        "id": "0lgNO4v2ZFrY"
      },
      "execution_count": 43,
      "outputs": []
    },
    {
      "cell_type": "code",
      "source": [
        "# Storing vector index create in local\n",
        "file_path=\"vector_database_index.pkl\"\n",
        "with open(file_path, \"wb\") as f:\n",
        "    pickle.dump(vectorindex_Lama, f)"
      ],
      "metadata": {
        "id": "9w9bLYknZHu8"
      },
      "execution_count": 44,
      "outputs": []
    },
    {
      "cell_type": "code",
      "source": [
        "if os.path.exists(file_path):\n",
        "    with open(file_path, \"rb\") as f:\n",
        "        vectorIndex = pickle.load(f)"
      ],
      "metadata": {
        "id": "tEFt62neZKXs"
      },
      "execution_count": 45,
      "outputs": []
    },
    {
      "cell_type": "code",
      "source": [
        "chain = RetrievalQAWithSourcesChain.from_llm(llm=llm, retriever=vectorIndex.as_retriever())\n",
        "\n"
      ],
      "metadata": {
        "id": "2ncvkRhrZMzd"
      },
      "execution_count": 46,
      "outputs": []
    },
    {
      "cell_type": "code",
      "source": [
        "query = \"Explain financial review of accenture, new bookings,Revenues by Geographic Market,Revenues by Industry Group,Dividend in detail and show in table format \"\n",
        "# query = \"what are the main features of punch iCNG?\"\n",
        "\n",
        "# langchain.debug=True\n",
        "\n",
        "response = chain({\"question\": query})"
      ],
      "metadata": {
        "id": "dbgiabyjZsqz"
      },
      "execution_count": 47,
      "outputs": []
    },
    {
      "cell_type": "code",
      "source": [
        "while True:\n",
        "  user_question = input(\"Enter your question (or type 'exit'): \")\n",
        "  if user_question.lower() == \"exit\":\n",
        "    break\n",
        "\n",
        "  answer = response = chain({\"question\": user_question})\n",
        "  print(answer.get('answer'))"
      ],
      "metadata": {
        "colab": {
          "base_uri": "https://localhost:8080/",
          "height": 356
        },
        "id": "yC_j6UxHyS6y",
        "outputId": "52a41e6b-9f4a-4bf6-f650-a936197a935e"
      },
      "execution_count": 50,
      "outputs": [
        {
          "output_type": "error",
          "ename": "KeyboardInterrupt",
          "evalue": "Interrupted by user",
          "traceback": [
            "\u001b[0;31m---------------------------------------------------------------------------\u001b[0m",
            "\u001b[0;31mKeyboardInterrupt\u001b[0m                         Traceback (most recent call last)",
            "\u001b[0;32m<ipython-input-50-d410ab09fc69>\u001b[0m in \u001b[0;36m<cell line: 1>\u001b[0;34m()\u001b[0m\n\u001b[1;32m      1\u001b[0m \u001b[0;32mwhile\u001b[0m \u001b[0;32mTrue\u001b[0m\u001b[0;34m:\u001b[0m\u001b[0;34m\u001b[0m\u001b[0;34m\u001b[0m\u001b[0m\n\u001b[0;32m----> 2\u001b[0;31m   \u001b[0muser_question\u001b[0m \u001b[0;34m=\u001b[0m \u001b[0minput\u001b[0m\u001b[0;34m(\u001b[0m\u001b[0;34m\"Enter your question (or type 'exit'): \"\u001b[0m\u001b[0;34m)\u001b[0m\u001b[0;34m\u001b[0m\u001b[0;34m\u001b[0m\u001b[0m\n\u001b[0m\u001b[1;32m      3\u001b[0m   \u001b[0;32mif\u001b[0m \u001b[0muser_question\u001b[0m\u001b[0;34m.\u001b[0m\u001b[0mlower\u001b[0m\u001b[0;34m(\u001b[0m\u001b[0;34m)\u001b[0m \u001b[0;34m==\u001b[0m \u001b[0;34m\"exit\"\u001b[0m\u001b[0;34m:\u001b[0m\u001b[0;34m\u001b[0m\u001b[0;34m\u001b[0m\u001b[0m\n\u001b[1;32m      4\u001b[0m     \u001b[0;32mbreak\u001b[0m\u001b[0;34m\u001b[0m\u001b[0;34m\u001b[0m\u001b[0m\n\u001b[1;32m      5\u001b[0m \u001b[0;34m\u001b[0m\u001b[0m\n",
            "\u001b[0;32m/usr/local/lib/python3.10/dist-packages/ipykernel/kernelbase.py\u001b[0m in \u001b[0;36mraw_input\u001b[0;34m(self, prompt)\u001b[0m\n\u001b[1;32m    849\u001b[0m                 \u001b[0;34m\"raw_input was called, but this frontend does not support input requests.\"\u001b[0m\u001b[0;34m\u001b[0m\u001b[0;34m\u001b[0m\u001b[0m\n\u001b[1;32m    850\u001b[0m             )\n\u001b[0;32m--> 851\u001b[0;31m         return self._input_request(str(prompt),\n\u001b[0m\u001b[1;32m    852\u001b[0m             \u001b[0mself\u001b[0m\u001b[0;34m.\u001b[0m\u001b[0m_parent_ident\u001b[0m\u001b[0;34m,\u001b[0m\u001b[0;34m\u001b[0m\u001b[0;34m\u001b[0m\u001b[0m\n\u001b[1;32m    853\u001b[0m             \u001b[0mself\u001b[0m\u001b[0;34m.\u001b[0m\u001b[0m_parent_header\u001b[0m\u001b[0;34m,\u001b[0m\u001b[0;34m\u001b[0m\u001b[0;34m\u001b[0m\u001b[0m\n",
            "\u001b[0;32m/usr/local/lib/python3.10/dist-packages/ipykernel/kernelbase.py\u001b[0m in \u001b[0;36m_input_request\u001b[0;34m(self, prompt, ident, parent, password)\u001b[0m\n\u001b[1;32m    893\u001b[0m             \u001b[0;32mexcept\u001b[0m \u001b[0mKeyboardInterrupt\u001b[0m\u001b[0;34m:\u001b[0m\u001b[0;34m\u001b[0m\u001b[0;34m\u001b[0m\u001b[0m\n\u001b[1;32m    894\u001b[0m                 \u001b[0;31m# re-raise KeyboardInterrupt, to truncate traceback\u001b[0m\u001b[0;34m\u001b[0m\u001b[0;34m\u001b[0m\u001b[0m\n\u001b[0;32m--> 895\u001b[0;31m                 \u001b[0;32mraise\u001b[0m \u001b[0mKeyboardInterrupt\u001b[0m\u001b[0;34m(\u001b[0m\u001b[0;34m\"Interrupted by user\"\u001b[0m\u001b[0;34m)\u001b[0m \u001b[0;32mfrom\u001b[0m \u001b[0;32mNone\u001b[0m\u001b[0;34m\u001b[0m\u001b[0;34m\u001b[0m\u001b[0m\n\u001b[0m\u001b[1;32m    896\u001b[0m             \u001b[0;32mexcept\u001b[0m \u001b[0mException\u001b[0m \u001b[0;32mas\u001b[0m \u001b[0me\u001b[0m\u001b[0;34m:\u001b[0m\u001b[0;34m\u001b[0m\u001b[0;34m\u001b[0m\u001b[0m\n\u001b[1;32m    897\u001b[0m                 \u001b[0mself\u001b[0m\u001b[0;34m.\u001b[0m\u001b[0mlog\u001b[0m\u001b[0;34m.\u001b[0m\u001b[0mwarning\u001b[0m\u001b[0;34m(\u001b[0m\u001b[0;34m\"Invalid Message:\"\u001b[0m\u001b[0;34m,\u001b[0m \u001b[0mexc_info\u001b[0m\u001b[0;34m=\u001b[0m\u001b[0;32mTrue\u001b[0m\u001b[0;34m)\u001b[0m\u001b[0;34m\u001b[0m\u001b[0;34m\u001b[0m\u001b[0m\n",
            "\u001b[0;31mKeyboardInterrupt\u001b[0m: Interrupted by user"
          ]
        }
      ]
    },
    {
      "cell_type": "code",
      "source": [
        "print(response.get('answer'))"
      ],
      "metadata": {
        "colab": {
          "base_uri": "https://localhost:8080/"
        },
        "id": "skhhO26cZxe0",
        "outputId": "0840f048-8821-4c02-9802-4aeb1d0eb705"
      },
      "execution_count": 49,
      "outputs": [
        {
          "output_type": "stream",
          "name": "stdout",
          "text": [
            "The available information provides some details about Accenture's financial performance, including new bookings, revenues, and dividend. However, it lacks specific data on Revenues by Geographic Market and Revenues by Industry Group. Here is a summary of the available information:\n",
            "\n",
            "New bookings: $18.7 billion, with a 1% increase in both U.S. dollars and local currency.\n",
            "Revenues: $17.7 billion, with a 9% increase in U.S. dollars and 8% in local currency.\n",
            "Consulting revenues: $9.0 billion.\n",
            "Managed services revenues: $8.6 billion.\n",
            "Quarterly cash dividend: $1.48 per share, with a 15% increase.\n",
            "\n",
            "Here is a table summarizing some of the available information:\n",
            "\n",
            "| **Category** | **Value** | **Growth** |\n",
            "| --- | --- | --- |\n",
            "| New Bookings | $18.7 billion | 1% (U.S. dollars and local currency) |\n",
            "| Revenues | $17.7 billion | 9% (U.S. dollars), 8% (local currency) |\n",
            "| Consulting Revenues | $9.0 billion | - |\n",
            "| Managed Services Revenues | $8.6 billion | - |\n",
            "| Quarterly Cash Dividend | $1.48 per share | 15% |\n",
            "\n",
            "Additionally, the provided text includes Accenture's updated business outlook for fiscal 2025, which raises full-year revenue growth to 4% to 7% in local currency, and expects a foreign exchange impact of negative 0.5%.\n",
            "\n",
            "\n"
          ]
        }
      ]
    },
    {
      "cell_type": "code",
      "source": [
        "query = \"show the accenture Summary of Revenues in table format in detail  \"\n",
        "\n"
      ],
      "metadata": {
        "id": "vCuJb95FdZmi"
      },
      "execution_count": null,
      "outputs": []
    },
    {
      "cell_type": "code",
      "source": [
        "result = chain({\"question\": query}).get('answer')"
      ],
      "metadata": {
        "id": "UbFguYNtdC7J"
      },
      "execution_count": null,
      "outputs": []
    },
    {
      "cell_type": "code",
      "source": [
        "print(result)"
      ],
      "metadata": {
        "id": "gneyW8dPdR9A"
      },
      "execution_count": null,
      "outputs": []
    }
  ]
}