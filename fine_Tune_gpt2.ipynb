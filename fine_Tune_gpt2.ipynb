{
  "nbformat": 4,
  "nbformat_minor": 0,
  "metadata": {
    "colab": {
      "provenance": [],
      "authorship_tag": "ABX9TyOX6K4MwQ3gd7SnTTmf8nEx",
      "include_colab_link": true
    },
    "kernelspec": {
      "name": "python3",
      "display_name": "Python 3"
    },
    "language_info": {
      "name": "python"
    }
  },
  "cells": [
    {
      "cell_type": "markdown",
      "metadata": {
        "id": "view-in-github",
        "colab_type": "text"
      },
      "source": [
        "<a href=\"https://colab.research.google.com/github/Ramanarayanan/DeepLearningAndGenerativeAi/blob/main/fine_Tune_gpt2.ipynb\" target=\"_parent\"><img src=\"https://colab.research.google.com/assets/colab-badge.svg\" alt=\"Open In Colab\"/></a>"
      ]
    },
    {
      "cell_type": "code",
      "execution_count": 14,
      "metadata": {
        "colab": {
          "base_uri": "https://localhost:8080/"
        },
        "id": "1_Y5EsbJW2tC",
        "outputId": "2a1d8894-6d3a-46d5-f44b-fae4f7c23b56"
      },
      "outputs": [
        {
          "output_type": "stream",
          "name": "stdout",
          "text": [
            "Requirement already satisfied: transformers in /usr/local/lib/python3.10/dist-packages (4.47.1)\n",
            "Requirement already satisfied: torch in /usr/local/lib/python3.10/dist-packages (2.5.1+cu121)\n",
            "Requirement already satisfied: pandas in /usr/local/lib/python3.10/dist-packages (2.2.2)\n",
            "Requirement already satisfied: filelock in /usr/local/lib/python3.10/dist-packages (from transformers) (3.16.1)\n",
            "Requirement already satisfied: huggingface-hub<1.0,>=0.24.0 in /usr/local/lib/python3.10/dist-packages (from transformers) (0.27.0)\n",
            "Requirement already satisfied: numpy>=1.17 in /usr/local/lib/python3.10/dist-packages (from transformers) (1.26.4)\n",
            "Requirement already satisfied: packaging>=20.0 in /usr/local/lib/python3.10/dist-packages (from transformers) (24.2)\n",
            "Requirement already satisfied: pyyaml>=5.1 in /usr/local/lib/python3.10/dist-packages (from transformers) (6.0.2)\n",
            "Requirement already satisfied: regex!=2019.12.17 in /usr/local/lib/python3.10/dist-packages (from transformers) (2024.11.6)\n",
            "Requirement already satisfied: requests in /usr/local/lib/python3.10/dist-packages (from transformers) (2.32.3)\n",
            "Requirement already satisfied: tokenizers<0.22,>=0.21 in /usr/local/lib/python3.10/dist-packages (from transformers) (0.21.0)\n",
            "Requirement already satisfied: safetensors>=0.4.1 in /usr/local/lib/python3.10/dist-packages (from transformers) (0.4.5)\n",
            "Requirement already satisfied: tqdm>=4.27 in /usr/local/lib/python3.10/dist-packages (from transformers) (4.67.1)\n",
            "Requirement already satisfied: typing-extensions>=4.8.0 in /usr/local/lib/python3.10/dist-packages (from torch) (4.12.2)\n",
            "Requirement already satisfied: networkx in /usr/local/lib/python3.10/dist-packages (from torch) (3.4.2)\n",
            "Requirement already satisfied: jinja2 in /usr/local/lib/python3.10/dist-packages (from torch) (3.1.4)\n",
            "Requirement already satisfied: fsspec in /usr/local/lib/python3.10/dist-packages (from torch) (2024.10.0)\n",
            "Requirement already satisfied: sympy==1.13.1 in /usr/local/lib/python3.10/dist-packages (from torch) (1.13.1)\n",
            "Requirement already satisfied: mpmath<1.4,>=1.1.0 in /usr/local/lib/python3.10/dist-packages (from sympy==1.13.1->torch) (1.3.0)\n",
            "Requirement already satisfied: python-dateutil>=2.8.2 in /usr/local/lib/python3.10/dist-packages (from pandas) (2.8.2)\n",
            "Requirement already satisfied: pytz>=2020.1 in /usr/local/lib/python3.10/dist-packages (from pandas) (2024.2)\n",
            "Requirement already satisfied: tzdata>=2022.7 in /usr/local/lib/python3.10/dist-packages (from pandas) (2024.2)\n",
            "Requirement already satisfied: six>=1.5 in /usr/local/lib/python3.10/dist-packages (from python-dateutil>=2.8.2->pandas) (1.17.0)\n",
            "Requirement already satisfied: MarkupSafe>=2.0 in /usr/local/lib/python3.10/dist-packages (from jinja2->torch) (3.0.2)\n",
            "Requirement already satisfied: charset-normalizer<4,>=2 in /usr/local/lib/python3.10/dist-packages (from requests->transformers) (3.4.0)\n",
            "Requirement already satisfied: idna<4,>=2.5 in /usr/local/lib/python3.10/dist-packages (from requests->transformers) (3.10)\n",
            "Requirement already satisfied: urllib3<3,>=1.21.1 in /usr/local/lib/python3.10/dist-packages (from requests->transformers) (2.2.3)\n",
            "Requirement already satisfied: certifi>=2017.4.17 in /usr/local/lib/python3.10/dist-packages (from requests->transformers) (2024.12.14)\n"
          ]
        }
      ],
      "source": [
        "!pip install transformers torch pandas"
      ]
    },
    {
      "cell_type": "code",
      "source": [
        "from transformers import GPT2LMHeadModel, GPT2TokenizerFast, GPT2Config\n",
        "from transformers import get_linear_schedule_with_warmup\n",
        "\n",
        "import torch\n",
        "from torch.optim import AdamW\n",
        "from torch.utils.data import Dataset, DataLoader\n",
        "from torch.utils.data import random_split, RandomSampler, SequentialSampler\n",
        "\n",
        "import pandas as pd\n",
        "\n",
        "device = \"cuda\" if torch.cuda.is_available() else \"cpu\"\n",
        "# model_name: ['gpt2', 'gpt2-medium', 'gpt2-large', 'gpt2-xl']\n",
        "model_name = \"gpt2-medium\"\n",
        "model_save_path = './model'"
      ],
      "metadata": {
        "id": "W85RbohkXDl_"
      },
      "execution_count": 15,
      "outputs": []
    },
    {
      "cell_type": "code",
      "source": [
        "configuration = GPT2Config.from_pretrained(model_name)\n",
        "model = GPT2LMHeadModel.from_pretrained(model_name, config=configuration)\n",
        "\n",
        "tokenizer = GPT2TokenizerFast.from_pretrained(model_name)\n",
        "\n",
        "input_sequence = \"beef, salt, pepper\"\n",
        "input_ids = tokenizer.encode(input_sequence, return_tensors='pt')\n",
        "\n",
        "model = model.to(device)\n",
        "#combine both sampling techniques\n",
        "sample_outputs = model.generate(input_ids.to(device),\n",
        "                              do_sample = True, max_length = 120,\n",
        "                              top_k = 50, top_p = 0.85,\n",
        "                              num_return_sequences = 3)"
      ],
      "metadata": {
        "colab": {
          "base_uri": "https://localhost:8080/",
          "height": 411
        },
        "id": "HOoCnSn9XU6o",
        "outputId": "6e63c2bc-c34d-4606-c6c1-e74390c59a64"
      },
      "execution_count": 16,
      "outputs": [
        {
          "output_type": "stream",
          "name": "stderr",
          "text": [
            "The attention mask and the pad token id were not set. As a consequence, you may observe unexpected behavior. Please pass your input's `attention_mask` to obtain reliable results.\n",
            "Setting `pad_token_id` to `eos_token_id`:50256 for open-end generation.\n"
          ]
        },
        {
          "output_type": "error",
          "ename": "KeyboardInterrupt",
          "evalue": "",
          "traceback": [
            "\u001b[0;31m---------------------------------------------------------------------------\u001b[0m",
            "\u001b[0;31mKeyboardInterrupt\u001b[0m                         Traceback (most recent call last)",
            "\u001b[0;32m<ipython-input-16-b0475660f357>\u001b[0m in \u001b[0;36m<cell line: 11>\u001b[0;34m()\u001b[0m\n\u001b[1;32m      9\u001b[0m \u001b[0mmodel\u001b[0m \u001b[0;34m=\u001b[0m \u001b[0mmodel\u001b[0m\u001b[0;34m.\u001b[0m\u001b[0mto\u001b[0m\u001b[0;34m(\u001b[0m\u001b[0mdevice\u001b[0m\u001b[0;34m)\u001b[0m\u001b[0;34m\u001b[0m\u001b[0;34m\u001b[0m\u001b[0m\n\u001b[1;32m     10\u001b[0m \u001b[0;31m#combine both sampling techniques\u001b[0m\u001b[0;34m\u001b[0m\u001b[0;34m\u001b[0m\u001b[0m\n\u001b[0;32m---> 11\u001b[0;31m sample_outputs = model.generate(input_ids.to(device),\n\u001b[0m\u001b[1;32m     12\u001b[0m                               \u001b[0mdo_sample\u001b[0m \u001b[0;34m=\u001b[0m \u001b[0;32mTrue\u001b[0m\u001b[0;34m,\u001b[0m \u001b[0mmax_length\u001b[0m \u001b[0;34m=\u001b[0m \u001b[0;36m120\u001b[0m\u001b[0;34m,\u001b[0m\u001b[0;34m\u001b[0m\u001b[0;34m\u001b[0m\u001b[0m\n\u001b[1;32m     13\u001b[0m                               \u001b[0mtop_k\u001b[0m \u001b[0;34m=\u001b[0m \u001b[0;36m50\u001b[0m\u001b[0;34m,\u001b[0m \u001b[0mtop_p\u001b[0m \u001b[0;34m=\u001b[0m \u001b[0;36m0.85\u001b[0m\u001b[0;34m,\u001b[0m\u001b[0;34m\u001b[0m\u001b[0;34m\u001b[0m\u001b[0m\n",
            "\u001b[0;32m/usr/local/lib/python3.10/dist-packages/torch/utils/_contextlib.py\u001b[0m in \u001b[0;36mdecorate_context\u001b[0;34m(*args, **kwargs)\u001b[0m\n\u001b[1;32m    114\u001b[0m     \u001b[0;32mdef\u001b[0m \u001b[0mdecorate_context\u001b[0m\u001b[0;34m(\u001b[0m\u001b[0;34m*\u001b[0m\u001b[0margs\u001b[0m\u001b[0;34m,\u001b[0m \u001b[0;34m**\u001b[0m\u001b[0mkwargs\u001b[0m\u001b[0;34m)\u001b[0m\u001b[0;34m:\u001b[0m\u001b[0;34m\u001b[0m\u001b[0;34m\u001b[0m\u001b[0m\n\u001b[1;32m    115\u001b[0m         \u001b[0;32mwith\u001b[0m \u001b[0mctx_factory\u001b[0m\u001b[0;34m(\u001b[0m\u001b[0;34m)\u001b[0m\u001b[0;34m:\u001b[0m\u001b[0;34m\u001b[0m\u001b[0;34m\u001b[0m\u001b[0m\n\u001b[0;32m--> 116\u001b[0;31m             \u001b[0;32mreturn\u001b[0m \u001b[0mfunc\u001b[0m\u001b[0;34m(\u001b[0m\u001b[0;34m*\u001b[0m\u001b[0margs\u001b[0m\u001b[0;34m,\u001b[0m \u001b[0;34m**\u001b[0m\u001b[0mkwargs\u001b[0m\u001b[0;34m)\u001b[0m\u001b[0;34m\u001b[0m\u001b[0;34m\u001b[0m\u001b[0m\n\u001b[0m\u001b[1;32m    117\u001b[0m \u001b[0;34m\u001b[0m\u001b[0m\n\u001b[1;32m    118\u001b[0m     \u001b[0;32mreturn\u001b[0m \u001b[0mdecorate_context\u001b[0m\u001b[0;34m\u001b[0m\u001b[0;34m\u001b[0m\u001b[0m\n",
            "\u001b[0;32m/usr/local/lib/python3.10/dist-packages/transformers/generation/utils.py\u001b[0m in \u001b[0;36mgenerate\u001b[0;34m(self, inputs, generation_config, logits_processor, stopping_criteria, prefix_allowed_tokens_fn, synced_gpus, assistant_model, streamer, negative_prompt_ids, negative_prompt_attention_mask, **kwargs)\u001b[0m\n\u001b[1;32m   2250\u001b[0m \u001b[0;34m\u001b[0m\u001b[0m\n\u001b[1;32m   2251\u001b[0m             \u001b[0;31m# 12. run sample (it degenerates to greedy search when `generation_config.do_sample=False`)\u001b[0m\u001b[0;34m\u001b[0m\u001b[0;34m\u001b[0m\u001b[0m\n\u001b[0;32m-> 2252\u001b[0;31m             result = self._sample(\n\u001b[0m\u001b[1;32m   2253\u001b[0m                 \u001b[0minput_ids\u001b[0m\u001b[0;34m,\u001b[0m\u001b[0;34m\u001b[0m\u001b[0;34m\u001b[0m\u001b[0m\n\u001b[1;32m   2254\u001b[0m                 \u001b[0mlogits_processor\u001b[0m\u001b[0;34m=\u001b[0m\u001b[0mprepared_logits_processor\u001b[0m\u001b[0;34m,\u001b[0m\u001b[0;34m\u001b[0m\u001b[0;34m\u001b[0m\u001b[0m\n",
            "\u001b[0;32m/usr/local/lib/python3.10/dist-packages/transformers/generation/utils.py\u001b[0m in \u001b[0;36m_sample\u001b[0;34m(self, input_ids, logits_processor, stopping_criteria, generation_config, synced_gpus, streamer, **model_kwargs)\u001b[0m\n\u001b[1;32m   3269\u001b[0m \u001b[0;34m\u001b[0m\u001b[0m\n\u001b[1;32m   3270\u001b[0m             \u001b[0;31m# pre-process distribution\u001b[0m\u001b[0;34m\u001b[0m\u001b[0;34m\u001b[0m\u001b[0m\n\u001b[0;32m-> 3271\u001b[0;31m             \u001b[0mnext_token_scores\u001b[0m \u001b[0;34m=\u001b[0m \u001b[0mlogits_processor\u001b[0m\u001b[0;34m(\u001b[0m\u001b[0minput_ids\u001b[0m\u001b[0;34m,\u001b[0m \u001b[0mnext_token_logits\u001b[0m\u001b[0;34m)\u001b[0m\u001b[0;34m\u001b[0m\u001b[0;34m\u001b[0m\u001b[0m\n\u001b[0m\u001b[1;32m   3272\u001b[0m \u001b[0;34m\u001b[0m\u001b[0m\n\u001b[1;32m   3273\u001b[0m             \u001b[0;31m# Store scores, attentions and hidden_states when required\u001b[0m\u001b[0;34m\u001b[0m\u001b[0;34m\u001b[0m\u001b[0m\n",
            "\u001b[0;32m/usr/local/lib/python3.10/dist-packages/transformers/generation/logits_process.py\u001b[0m in \u001b[0;36m__call__\u001b[0;34m(self, input_ids, scores, **kwargs)\u001b[0m\n\u001b[1;32m     93\u001b[0m         \"\"\"\n\u001b[1;32m     94\u001b[0m         \u001b[0;32mfor\u001b[0m \u001b[0mprocessor\u001b[0m \u001b[0;32min\u001b[0m \u001b[0mself\u001b[0m\u001b[0;34m:\u001b[0m\u001b[0;34m\u001b[0m\u001b[0;34m\u001b[0m\u001b[0m\n\u001b[0;32m---> 95\u001b[0;31m             \u001b[0mfunction_args\u001b[0m \u001b[0;34m=\u001b[0m \u001b[0minspect\u001b[0m\u001b[0;34m.\u001b[0m\u001b[0msignature\u001b[0m\u001b[0;34m(\u001b[0m\u001b[0mprocessor\u001b[0m\u001b[0;34m.\u001b[0m\u001b[0m__call__\u001b[0m\u001b[0;34m)\u001b[0m\u001b[0;34m.\u001b[0m\u001b[0mparameters\u001b[0m\u001b[0;34m\u001b[0m\u001b[0;34m\u001b[0m\u001b[0m\n\u001b[0m\u001b[1;32m     96\u001b[0m             \u001b[0;32mif\u001b[0m \u001b[0mlen\u001b[0m\u001b[0;34m(\u001b[0m\u001b[0mfunction_args\u001b[0m\u001b[0;34m)\u001b[0m \u001b[0;34m>\u001b[0m \u001b[0;36m2\u001b[0m\u001b[0;34m:\u001b[0m\u001b[0;34m\u001b[0m\u001b[0;34m\u001b[0m\u001b[0m\n\u001b[1;32m     97\u001b[0m                 \u001b[0;32mif\u001b[0m \u001b[0;32mnot\u001b[0m \u001b[0mall\u001b[0m\u001b[0;34m(\u001b[0m\u001b[0marg\u001b[0m \u001b[0;32min\u001b[0m \u001b[0mkwargs\u001b[0m \u001b[0;32mfor\u001b[0m \u001b[0marg\u001b[0m \u001b[0;32min\u001b[0m \u001b[0mlist\u001b[0m\u001b[0;34m(\u001b[0m\u001b[0mfunction_args\u001b[0m\u001b[0;34m.\u001b[0m\u001b[0mkeys\u001b[0m\u001b[0;34m(\u001b[0m\u001b[0;34m)\u001b[0m\u001b[0;34m)\u001b[0m\u001b[0;34m[\u001b[0m\u001b[0;36m2\u001b[0m\u001b[0;34m:\u001b[0m\u001b[0;34m]\u001b[0m\u001b[0;34m)\u001b[0m\u001b[0;34m:\u001b[0m\u001b[0;34m\u001b[0m\u001b[0;34m\u001b[0m\u001b[0m\n",
            "\u001b[0;32m/usr/lib/python3.10/inspect.py\u001b[0m in \u001b[0;36msignature\u001b[0;34m(obj, follow_wrapped, globals, locals, eval_str)\u001b[0m\n\u001b[1;32m   3252\u001b[0m \u001b[0;32mdef\u001b[0m \u001b[0msignature\u001b[0m\u001b[0;34m(\u001b[0m\u001b[0mobj\u001b[0m\u001b[0;34m,\u001b[0m \u001b[0;34m*\u001b[0m\u001b[0;34m,\u001b[0m \u001b[0mfollow_wrapped\u001b[0m\u001b[0;34m=\u001b[0m\u001b[0;32mTrue\u001b[0m\u001b[0;34m,\u001b[0m \u001b[0mglobals\u001b[0m\u001b[0;34m=\u001b[0m\u001b[0;32mNone\u001b[0m\u001b[0;34m,\u001b[0m \u001b[0mlocals\u001b[0m\u001b[0;34m=\u001b[0m\u001b[0;32mNone\u001b[0m\u001b[0;34m,\u001b[0m \u001b[0meval_str\u001b[0m\u001b[0;34m=\u001b[0m\u001b[0;32mFalse\u001b[0m\u001b[0;34m)\u001b[0m\u001b[0;34m:\u001b[0m\u001b[0;34m\u001b[0m\u001b[0;34m\u001b[0m\u001b[0m\n\u001b[1;32m   3253\u001b[0m     \u001b[0;34m\"\"\"Get a signature object for the passed callable.\"\"\"\u001b[0m\u001b[0;34m\u001b[0m\u001b[0;34m\u001b[0m\u001b[0m\n\u001b[0;32m-> 3254\u001b[0;31m     return Signature.from_callable(obj, follow_wrapped=follow_wrapped,\n\u001b[0m\u001b[1;32m   3255\u001b[0m                                    globals=globals, locals=locals, eval_str=eval_str)\n\u001b[1;32m   3256\u001b[0m \u001b[0;34m\u001b[0m\u001b[0m\n",
            "\u001b[0;32m/usr/lib/python3.10/inspect.py\u001b[0m in \u001b[0;36mfrom_callable\u001b[0;34m(cls, obj, follow_wrapped, globals, locals, eval_str)\u001b[0m\n\u001b[1;32m   3000\u001b[0m                       follow_wrapped=True, globals=None, locals=None, eval_str=False):\n\u001b[1;32m   3001\u001b[0m         \u001b[0;34m\"\"\"Constructs Signature for the given callable object.\"\"\"\u001b[0m\u001b[0;34m\u001b[0m\u001b[0;34m\u001b[0m\u001b[0m\n\u001b[0;32m-> 3002\u001b[0;31m         return _signature_from_callable(obj, sigcls=cls,\n\u001b[0m\u001b[1;32m   3003\u001b[0m                                         \u001b[0mfollow_wrapper_chains\u001b[0m\u001b[0;34m=\u001b[0m\u001b[0mfollow_wrapped\u001b[0m\u001b[0;34m,\u001b[0m\u001b[0;34m\u001b[0m\u001b[0;34m\u001b[0m\u001b[0m\n\u001b[1;32m   3004\u001b[0m                                         globals=globals, locals=locals, eval_str=eval_str)\n",
            "\u001b[0;32m/usr/lib/python3.10/inspect.py\u001b[0m in \u001b[0;36m_signature_from_callable\u001b[0;34m(obj, follow_wrapper_chains, skip_bound_arg, globals, locals, eval_str, sigcls)\u001b[0m\n\u001b[1;32m   2402\u001b[0m \u001b[0;34m\u001b[0m\u001b[0m\n\u001b[1;32m   2403\u001b[0m         \u001b[0;32mif\u001b[0m \u001b[0mskip_bound_arg\u001b[0m\u001b[0;34m:\u001b[0m\u001b[0;34m\u001b[0m\u001b[0;34m\u001b[0m\u001b[0m\n\u001b[0;32m-> 2404\u001b[0;31m             \u001b[0;32mreturn\u001b[0m \u001b[0m_signature_bound_method\u001b[0m\u001b[0;34m(\u001b[0m\u001b[0msig\u001b[0m\u001b[0;34m)\u001b[0m\u001b[0;34m\u001b[0m\u001b[0;34m\u001b[0m\u001b[0m\n\u001b[0m\u001b[1;32m   2405\u001b[0m         \u001b[0;32melse\u001b[0m\u001b[0;34m:\u001b[0m\u001b[0;34m\u001b[0m\u001b[0;34m\u001b[0m\u001b[0m\n\u001b[1;32m   2406\u001b[0m             \u001b[0;32mreturn\u001b[0m \u001b[0msig\u001b[0m\u001b[0;34m\u001b[0m\u001b[0;34m\u001b[0m\u001b[0m\n",
            "\u001b[0;32m/usr/lib/python3.10/inspect.py\u001b[0m in \u001b[0;36m_signature_bound_method\u001b[0;34m(sig)\u001b[0m\n\u001b[1;32m   1980\u001b[0m         \u001b[0;31m# Do nothing. '(*args[, ...])' -> '(*args[, ...])'\u001b[0m\u001b[0;34m\u001b[0m\u001b[0;34m\u001b[0m\u001b[0m\n\u001b[1;32m   1981\u001b[0m \u001b[0;34m\u001b[0m\u001b[0m\n\u001b[0;32m-> 1982\u001b[0;31m     \u001b[0;32mreturn\u001b[0m \u001b[0msig\u001b[0m\u001b[0;34m.\u001b[0m\u001b[0mreplace\u001b[0m\u001b[0;34m(\u001b[0m\u001b[0mparameters\u001b[0m\u001b[0;34m=\u001b[0m\u001b[0mparams\u001b[0m\u001b[0;34m)\u001b[0m\u001b[0;34m\u001b[0m\u001b[0;34m\u001b[0m\u001b[0m\n\u001b[0m\u001b[1;32m   1983\u001b[0m \u001b[0;34m\u001b[0m\u001b[0m\n\u001b[1;32m   1984\u001b[0m \u001b[0;34m\u001b[0m\u001b[0m\n",
            "\u001b[0;32m/usr/lib/python3.10/inspect.py\u001b[0m in \u001b[0;36mreplace\u001b[0;34m(self, parameters, return_annotation)\u001b[0m\n\u001b[1;32m   3012\u001b[0m         \u001b[0;32mreturn\u001b[0m \u001b[0mself\u001b[0m\u001b[0;34m.\u001b[0m\u001b[0m_return_annotation\u001b[0m\u001b[0;34m\u001b[0m\u001b[0;34m\u001b[0m\u001b[0m\n\u001b[1;32m   3013\u001b[0m \u001b[0;34m\u001b[0m\u001b[0m\n\u001b[0;32m-> 3014\u001b[0;31m     \u001b[0;32mdef\u001b[0m \u001b[0mreplace\u001b[0m\u001b[0;34m(\u001b[0m\u001b[0mself\u001b[0m\u001b[0;34m,\u001b[0m \u001b[0;34m*\u001b[0m\u001b[0;34m,\u001b[0m \u001b[0mparameters\u001b[0m\u001b[0;34m=\u001b[0m\u001b[0m_void\u001b[0m\u001b[0;34m,\u001b[0m \u001b[0mreturn_annotation\u001b[0m\u001b[0;34m=\u001b[0m\u001b[0m_void\u001b[0m\u001b[0;34m)\u001b[0m\u001b[0;34m:\u001b[0m\u001b[0;34m\u001b[0m\u001b[0;34m\u001b[0m\u001b[0m\n\u001b[0m\u001b[1;32m   3015\u001b[0m         \"\"\"Creates a customized copy of the Signature.\n\u001b[1;32m   3016\u001b[0m         \u001b[0mPass\u001b[0m \u001b[0;34m'parameters'\u001b[0m \u001b[0;32mand\u001b[0m\u001b[0;34m/\u001b[0m\u001b[0;32mor\u001b[0m \u001b[0;34m'return_annotation'\u001b[0m \u001b[0marguments\u001b[0m\u001b[0;34m\u001b[0m\u001b[0;34m\u001b[0m\u001b[0m\n",
            "\u001b[0;31mKeyboardInterrupt\u001b[0m: "
          ]
        }
      ]
    },
    {
      "cell_type": "markdown",
      "source": [],
      "metadata": {
        "id": "KgidzighqDS2"
      }
    },
    {
      "cell_type": "code",
      "source": [
        "\n",
        "input_sequence = \"beef, salt, pepper\"\n",
        "input_ids = tokenizer.encode(input_sequence, return_tensors='pt')\n",
        "\n",
        "model = model.to(device)\n",
        "#combine both sampling techniques\n",
        "sample_outputs = model.generate(input_ids.to(device),\n",
        "                              do_sample = True, max_length = 120,\n",
        "                              top_k = 50, top_p = 0.85,\n",
        "                              num_return_sequences = 3)"
      ],
      "metadata": {
        "id": "HoePs5QdpdrF"
      },
      "execution_count": null,
      "outputs": []
    },
    {
      "cell_type": "code",
      "source": [
        "print(sample_outputs)"
      ],
      "metadata": {
        "id": "ZekewbtPZW-G"
      },
      "execution_count": null,
      "outputs": []
    },
    {
      "cell_type": "code",
      "source": [
        "print(tokenizer.decode(sample_outputs[2], skip_special_tokens = True))"
      ],
      "metadata": {
        "id": "BCaPPMxyZ4fl"
      },
      "execution_count": null,
      "outputs": []
    },
    {
      "cell_type": "code",
      "source": [
        "import kagglehub\n",
        "\n",
        "# Download latest version\n",
        "path = kagglehub.dataset_download(\"irkaal/foodcom-recipes-and-reviews\")\n",
        "\n",
        "print(path+'./recipes.csv')"
      ],
      "metadata": {
        "id": "ILy0UffYbJOk"
      },
      "execution_count": null,
      "outputs": []
    },
    {
      "cell_type": "code",
      "source": [
        "df_recipes = pd.read_csv('/recipes.csv',usecols = ['RecipeId', 'Name', 'CookTime', 'PrepTime',\n",
        "       'TotalTime', 'Description', 'Images', 'RecipeCategory',\n",
        "       'Keywords', 'RecipeIngredientParts', 'Calories', 'FatContent',\n",
        "       'SaturatedFatContent', 'CholesterolContent', 'SodiumContent',\n",
        "       'CarbohydrateContent', 'FiberContent', 'SugarContent', 'ProteinContent',\n",
        "       'RecipeServings', 'RecipeInstructions'])\n",
        "df_recipes.reset_index(drop=True, inplace=True)\n",
        "print(df_recipes.head(10))\n"
      ],
      "metadata": {
        "id": "okdP4JDIbJwY"
      },
      "execution_count": null,
      "outputs": []
    },
    {
      "cell_type": "code",
      "source": [
        "from google.colab import drive\n",
        "drive.mount('/content/drive')"
      ],
      "metadata": {
        "id": "KUD31P1Wflbi"
      },
      "execution_count": null,
      "outputs": []
    },
    {
      "cell_type": "code",
      "source": [
        "def form_string(ingredient,instruction):\n",
        "    s = f\"<|startoftext|>Ingredients: {ingredient.strip()}. \" \\\n",
        "        f\"Instructions: {instruction.strip()}<|endoftext|>\"\n",
        "    return s\n",
        "\n",
        "data = df_recipes.apply(lambda x:form_string(\n",
        "    x['RecipeInstructions'], x['RecipeInstructions']), axis=1).to_list()\n",
        "data[0]"
      ],
      "metadata": {
        "id": "FtIWAMHvfWCp"
      },
      "execution_count": null,
      "outputs": []
    },
    {
      "cell_type": "code",
      "source": [
        "tokenizer = GPT2TokenizerFast.from_pretrained(model_name,\n",
        "                                              bos_token='<|startoftext|>',\n",
        "                                              eos_token='<|endoftext|>',\n",
        "                                              unk_token='<|unknown|>',\n",
        "                                              pad_token='<|pad|>'\n",
        "                                             )"
      ],
      "metadata": {
        "id": "vYqcrGSDfToB"
      },
      "execution_count": null,
      "outputs": []
    },
    {
      "cell_type": "code",
      "source": [
        "batch_size = 2\n",
        "max_length = 180\n",
        "\n",
        "# standard PyTorch approach of loading data in using a Dataset class.\n",
        "class RecipeDataset(Dataset):\n",
        "    def __init__(self, data, tokenizer):\n",
        "        self.data = data\n",
        "        self.input_ids = []\n",
        "        self.attn_masks = []\n",
        "\n",
        "        for recipe in data:\n",
        "            encodings = tokenizer.encode_plus(recipe,\n",
        "                                              truncation=True,\n",
        "                                              padding='max_length',\n",
        "                                              max_length=max_length,\n",
        "                                              # return a PyTorch tensor\n",
        "                                              return_tensors='pt'\n",
        "                                             )\n",
        "            self.input_ids.append(torch.squeeze(encodings['input_ids'],0))\n",
        "            self.attn_masks.append(torch.squeeze(encodings['attention_mask'],0))\n",
        "\n",
        "\n",
        "    def __len__(self):\n",
        "        return len(self.data)\n",
        "\n",
        "    def __getitem__(self,idx):\n",
        "        return self.input_ids[idx], self.attn_masks[idx]\n",
        "\n",
        "dataset = RecipeDataset(data, tokenizer)\n",
        "print(f\"input_ids: {dataset[0][0]} attn_masks: {dataset[0][1]}\")"
      ],
      "metadata": {
        "id": "0ZIJJTS7jH7u"
      },
      "execution_count": null,
      "outputs": []
    },
    {
      "cell_type": "code",
      "source": [],
      "metadata": {
        "id": "3qPoteX0pznX"
      },
      "execution_count": null,
      "outputs": []
    },
    {
      "cell_type": "code",
      "source": [
        "# Split into training and validation sets\n",
        "train_size = int(0.9 * len(dataset))\n",
        "val_size = len(dataset) - train_size\n",
        "\n",
        "train_dataset, val_dataset = random_split(dataset, [train_size, val_size])\n",
        "\n",
        "# Create the DataLoaders for our training and validation datasets.\n",
        "# Get training samples in random order.\n",
        "train_dataloader = DataLoader(\n",
        "            train_dataset,\n",
        "            sampler = RandomSampler(train_dataset),\n",
        "            batch_size = batch_size # Trains with this batch size.\n",
        "        )\n",
        "\n",
        "# Get valiation samples sequentially.\n",
        "validation_dataloader = DataLoader(\n",
        "            val_dataset,\n",
        "            sampler = SequentialSampler(val_dataset),\n",
        "            batch_size = batch_size # Evaluate with this batch size.\n",
        "        )"
      ],
      "metadata": {
        "id": "QKcpKtJyjUcD"
      },
      "execution_count": null,
      "outputs": []
    },
    {
      "cell_type": "code",
      "source": [
        "configuration = GPT2Config.from_pretrained(model_name)\n",
        "model = GPT2LMHeadModel.from_pretrained(model_name, config=configuration)\n",
        "model = model.to(device)\n",
        "model.resize_token_embeddings(len(tokenizer))\n",
        "\n",
        "epochs = 3\n",
        "learning_rate = 2e-5\n",
        "warmup_steps = 1e2\n",
        "# to prevent any division by zero in the implementation\n",
        "epsilon = 1e-8\n",
        "optim = AdamW(model.parameters(), lr = learning_rate, eps = epsilon)\n",
        "\n",
        "total_steps = len(train_dataloader) * epochs  # [no batches] x [no epochs]\n",
        "\n",
        "# Create the learning rate scheduler.\n",
        "scheduler = get_linear_schedule_with_warmup(optim,\n",
        "                                            num_warmup_steps=warmup_steps,\n",
        "                                            num_training_steps=total_steps)"
      ],
      "metadata": {
        "id": "whtYHqOsjaSa"
      },
      "execution_count": null,
      "outputs": []
    },
    {
      "cell_type": "code",
      "source": [
        "for epoch_i in range(0, epochs):\n",
        "    total_train_loss = 0\n",
        "    model.train()\n",
        "\n",
        "    for step, batch in enumerate(train_dataloader):\n",
        "        b_input_ids = batch[0].to(device)\n",
        "        b_labels    = batch[0].to(device)\n",
        "        b_masks     = batch[1].to(device)\n",
        "\n",
        "        model.zero_grad()\n",
        "        outputs = model( input_ids = b_input_ids, labels = b_labels,\n",
        "                         attention_mask = b_masks, token_type_ids = None )\n",
        "\n",
        "        loss = outputs[0]\n",
        "\n",
        "        # Get sample every x batches.\n",
        "        if step % 100 == 0 and not step == 0:\n",
        "            model.eval()\n",
        "            print(infer(\"eggs, flour, butter, sugar\"))\n",
        "            model.train()\n",
        "\n",
        "        loss.backward()\n",
        "        optim.step()\n",
        "        scheduler.step()"
      ],
      "metadata": {
        "id": "gEXv2op5jddC"
      },
      "execution_count": null,
      "outputs": []
    },
    {
      "cell_type": "code",
      "source": [
        "    model.eval()\n",
        "\n",
        "    # Evaluate data for one epoch\n",
        "    for batch in validation_dataloader:\n",
        "        b_input_ids = batch[0].to(device)\n",
        "        b_labels    = batch[0].to(device)\n",
        "        b_masks     = batch[1].to(device)\n",
        "\n",
        "        with torch.no_grad():\n",
        "            outputs  = model(input_ids = b_input_ids, labels = b_labels\n",
        "                             attention_mask = b_masks)\n",
        "            loss = outputs[0]"
      ],
      "metadata": {
        "id": "sX3B15k2jgoK"
      },
      "execution_count": null,
      "outputs": []
    },
    {
      "cell_type": "code",
      "source": [
        "model.save_pretrained(model_save_path)\n",
        "tokenizer.save_pretrained(model_save_path)"
      ],
      "metadata": {
        "id": "5zu0iMU6jkP0"
      },
      "execution_count": null,
      "outputs": []
    },
    {
      "cell_type": "code",
      "source": [
        "model = GPT2LMHeadModel.from_pretrained(model_save_path)\n",
        "tokenizer = GPT2TokenizerFast.from_pretrained(model_save_path)\n",
        "model.to(device)"
      ],
      "metadata": {
        "id": "sjwl4KkLjmUF"
      },
      "execution_count": null,
      "outputs": []
    },
    {
      "cell_type": "code",
      "source": [
        "def infer(prompt):\n",
        "    input = f\"<|startoftext|>Ingredients: {prompt.strip()}\"\n",
        "    input = tokenizer(input, return_tensors=\"pt\")\n",
        "    input_ids      = input[\"input_ids\"]\n",
        "    attention_mask = input[\"attention_mask\"]\n",
        "\n",
        "    output = model.generate(input_ids.to(device),\n",
        "                            attention_mask=attention_mask.to(device),\n",
        "                            max_new_tokens=max_length,\n",
        "                            do_sample = True, top_k = 50, top_p = 0.85)\n",
        "    output = tokenizer.decode(output[0], skip_special_tokens=True)\n",
        "    return output"
      ],
      "metadata": {
        "id": "H04z0iysjp96"
      },
      "execution_count": null,
      "outputs": []
    },
    {
      "cell_type": "code",
      "source": [
        "infer(\"eggs, mushroom, butter, sugar\")"
      ],
      "metadata": {
        "id": "vNE5JzJGjtD6"
      },
      "execution_count": null,
      "outputs": []
    },
    {
      "cell_type": "code",
      "source": [
        "infer(\"beef, salt, pepper\")"
      ],
      "metadata": {
        "id": "elEbIIhojvxN"
      },
      "execution_count": null,
      "outputs": []
    },
    {
      "cell_type": "code",
      "source": [
        "import statistics\n",
        "from nltk.translate.bleu_score import sentence_bleu\n",
        "\n",
        "scores=[]\n",
        "\n",
        "for i in range(10):\n",
        "    ingredients = val_dataset[i][2]  # original ingredients\n",
        "    reference = val_dataset[i][3]    # original instructions\n",
        "    candidate = infer(ingredients)   # generated instructions\n",
        "    scores.append(sentence_bleu(reference, candidate))\n",
        "\n",
        "print(statistics.mean(scores))\n",
        "\n",
        "# UserWarning: The hypothesis contains 0 counts of 2-gram overlaps.\n",
        "# Therefore the BLEU score evaluates to 0"
      ],
      "metadata": {
        "id": "xX7112XfjyOC"
      },
      "execution_count": null,
      "outputs": []
    },
    {
      "cell_type": "markdown",
      "source": [
        "Introduction\n",
        "Artificial Intelligence (AI) has witnessed groundbreaking advancements in recent years, and one of the standout technologies is ChatGPT. The curiosity surrounding its intelligence has made me want to explore it. In this article, we delve into text generation using the GPT-2 model. GPT-2 has been trained on a diverse dataset of 8 million web pages. I will then continue training GPT-2 model on a dataset of cooking recipes, enabling it to generate recipes based on input ingredients. I use pretrained GPT-2 mode from Hugging Face and PyTorch to develop the code for this article.\n",
        "\n",
        "Pre-Trained Models\n",
        "Fine-Tune a Large Language Model\n",
        "2.1 What is fine-tuning and Why?\n",
        "2.2 Setup\n",
        "2.3 Quick Test with GPT2\n",
        "2.4 Prepare a Dataset\n",
        "2.5 GPT2 Tokenizer\n",
        "2.6 Tokenize Datasets & Dataloaders\n",
        "2.7 Finetune GPT2 Language Model\n",
        "2.8 Saving & Loading Fine-Tuned Model\n",
        "2.9 Generate Text\n",
        "2.10 Performance Evaluation\n",
        "What’s Next?\n",
        "1. Pre-Trained Model\n",
        "A pre-trained model is essentially a saved network that has undergone prior training on a substantial dataset, e.g. on a large-scale text generation task. The utility of a pretrained model lies in its adaptability — you can use it as is or fine-tune the model for a specific task.\n",
        "\n",
        "Hugging Face Transformers provides thousands of pretrained models to perform tasks on text, vision, and audio. The underlying principle is simple yet powerful — we can save a trained model’s parameters for future use, then we can share it with anyone, whether for inference or as a basis for subsequent fine-tuning.\n",
        "\n",
        "GPT-2 pretrained models are available in four different sizes. In this article, I use gpt2-medium to generate text and fine-tune it with a new dataset.\n",
        "- gpt2: 110M parameters\n",
        "- gpt2-medium: 345M parameters\n",
        "- gpt2-large: 774M parameters\n",
        "- gpt2-xl: 1558M parameters\n",
        "\n",
        "\n",
        "Source: modeldifferently.com\n",
        "2. Fine-Tuning a Large Language Model\n",
        "2.1 What is Fine-Tuning and Why?\n",
        "Pre-trained large language models (LLMs) are trained on a general, diverse corpus and they offer many capabilities but aren’t universal. You don’t want the model to respond in the most general way based on the general uses of particular words on the Internet. Fine-tuning starts from an existing pre-trained model and continues training on a specialized corpus to shift the parameters to achieve better loss on a specific task. In this article, I will fine-tune GPT2 model, which already understands English language, on a cooking recipes corpus, enabling the model to generate recipes based on input ingredients. This application of fine-tuning enhances the model’s capability in domain-specific tasks without starting the training process from scratch, which can be extremely time-consuming and computationally expensive.\n",
        "\n",
        "\n",
        "There are 3 ways to fine-tune a pre-trained model.\n",
        "\n",
        "Unsupervised fine-tuning is a technique where you train the LLM on a dataset of data that does not contain any labels. The task could be text generation like legal document or cooking recipe generation as below.\n",
        "Supervised fine-tuning is a technique where you train the LLM on a dataset of data that contains labels. This task could be sentiment analysis, text summarization, translation, etc.\n",
        "Reinforcement Learning from Human Feedback (RLHF) is a technique where you use human feedback to fine-tune the LLM. The basic idea is that you give the LLM a prompt and it generates an output. Then, you ask a human to rate the output.\n",
        "There are 3 options for parameter training:\n",
        "\n",
        "Full Fine-tuning: Updates all parameters of the pre-trained model on the new dataset, allowing models to learn task-specific details while retaining their general knowledge. Partial Fine-Tuning updates final few layers or specific parts like the attention heads.\n",
        "Transfer Learning with Task-Specific Layers: Adds new task-specific layers (e.g., classification heads) on top of the LLM. Only these new layers are trained.\n",
        "Parameter Efficient Fine-tuning (PEFT): Add small, trainable components or adapt only a fraction of the model’s parameters.\n",
        "In this article, I use Full Fine-Tuning to update all parameters of the LLM.\n",
        "\n",
        "2.2 Setup\n",
        "First, let’s install the transformers package from Hugging Face which will give us a PyTorch interface for working with GPT-2 pre-trained model. We also need some libraries for data processing and model optimization using PyTorch. I have opted for the gpt2-medium variant with 345 million parameters so I can run on my computer equipped with an RTX2080. I recommend to execute the code on a computer or Colab notebook with a GPU supporting CUDA for optimal performance.\n",
        "\n",
        "The resultant model will be saved in the “model” folder and will be used for generating recipes in last steps.\n",
        "\n",
        "from transformers import GPT2LMHeadModel, GPT2TokenizerFast, GPT2Config\n",
        "from transformers import get_linear_schedule_with_warmup\n",
        "\n",
        "import torch\n",
        "from torch.optim import AdamW\n",
        "from torch.utils.data import Dataset, DataLoader\n",
        "from torch.utils.data import random_split, RandomSampler, SequentialSampler\n",
        "\n",
        "import pandas as pd\n",
        "\n",
        "device = \"cuda\" if torch.cuda.is_available() else \"cpu\"\n",
        "# model_name: ['gpt2', 'gpt2-medium', 'gpt2-large', 'gpt2-xl']\n",
        "model_name = \"gpt2-medium\"\n",
        "model_save_path = './model'\n",
        "2.3 Quick Test with GPT2\n",
        "Let’s use the pre-trained GPT2-medium to generate text with the prompt of “beef, salt, pepper” and I expect the output is something like beef steak but let’s see. The max_length=120 is to define the max output length and I want to see 3 outputs with num_return_sequences=3. We will discuss the parameters do_sample , top_k , top_p later in Section 2.8.\n",
        "\n",
        "configuration = GPT2Config.from_pretrained(model_name)\n",
        "model = GPT2LMHeadModel.from_pretrained(model_name, config=configuration)\n",
        "\n",
        "tokenizer = GPT2TokenizerFast.from_pretrained(model_name)\n",
        "\n",
        "input_sequence = \"beef, salt, pepper\"\n",
        "input_ids = tokenizer.encode(input_sequence, return_tensors='pt')\n",
        "\n",
        "model = model.to(device)\n",
        "#combine both sampling techniques\n",
        "sample_outputs = model.generate(input_ids.to(device),\n",
        "                              do_sample = True, max_length = 120,\n",
        "                              top_k = 50, top_p = 0.85,\n",
        "                              num_return_sequences = 3)\n",
        "Here are 3 results.\n",
        "\n",
        "1: beef, salt, pepper, and vinegar, then remove the fillet to a plate and refrigerate until ready to serve. Cooking with a Lightly Spiced Pork Rind. Place 1 inch cubes of pork tenderloin on a lightly oiled nonstick or silicone baking sheet and drizzle with some cooking spray. Place a large pot of water on the stovetop and bring to a boil. As the pork tenderloin cooks, begin by gently stirring the oil and salt in the pan. You will get the most tender and crisp meat when the oil is…\n",
        "\n",
        "Overall, the generated text looks like a cooking recipe. However, there are some unrelated words such as “remove the fillet” in the context of “beef”, “refrigerate until ready to serve” mentioned right at the beginning of the cooking process, and sudden appearance of “pork tenderloin” among others.\n",
        "\n",
        "2: beef, salt, pepper, red onion, and mustard on one side, then sliced mushrooms, tomatoes, and red peppers on the other side. I then topped it with some chicken breasts. I have to give credit where credit is due: I made this at home with an electric stovetop smoker. It’s one of the few things I have that I’m comfortable doing without a commercial oven (which, in fact, was what I had on hand), which makes cooking at home very easy. My husband has an electric grill, so I could have baked this and used a…\n",
        "\n",
        "The topic abruptly shifts from food to smoker, oven, and grill.\n",
        "\n",
        "3: beef, salt, pepper, salt and pepper shakers (no spices), ketchup, mustard, mayonnaise, pickles, condiments, lettuce, and/or lettuce leaves, mayonnaise, mustard, mayonnaise, onion powder, mayonnaise, onion powder, mayonnaise, pickles, lettuce, onions, lettuce leaves, and/or lettuce leaves, lettuce leaves, lettuce leaves, lettuce leaves, and/or lettuce leaves, lettuce leaves, lettuce leaves, lettuce leaves, lettuce leaves, lettuce leaves, lettuce leaves, lettuce leaves, lettuce leaves, lettuce leaves…\n",
        "\n",
        "Even using top_k and top_p, the results remain repetitive and fail to complete the ingredients section.\n",
        "\n",
        "Let’s fine-tune GPT2-medium with a cooking recipes dataset so that the model can generate recipes with some ingredients as the prompt.\n",
        "\n",
        "2.4 Prepare a Dataset\n",
        "I get the recipes dataset from Food.com — Recipes and Reviews. There are over 50,000 recipes but I just use 1,000 recipes to fine-tune the GPT2 model. I combine ingredients and instruction of a recipe in one text and wrap them inside 2 distinct strings to signal the model about beginning of text and end of text.\n",
        "\n",
        "df_recipes = pd.read_csv('recipes_1000.csv')\n",
        "df_recipes.reset_index(drop=True, inplace=True)\n",
        "\n",
        "def form_string(ingredient,instruction):\n",
        "    s = f\"<|startoftext|>Ingredients: {ingredient.strip()}. \" \\\n",
        "        f\"Instructions: {instruction.strip()}<|endoftext|>\"\n",
        "    return s\n",
        "\n",
        "data = df_recipes.apply(lambda x:form_string(\n",
        "    x['ingredients'], x['instructions']), axis=1).to_list()\n",
        "data[0]\n",
        "The data format of each recipe is like: <|startoftext|>Ingredients: blueberries, granulated sugar, vanilla yogurt, lemon juice. Instructions: Toss 2 cups berries with sugar. Let stand for 45 minutes, stirring occasionally. Transfer berry-sugar mixture to food processor. … Pour into plastic mold and freeze overnight. Let soften slightly to serve.<|endoftext|>\n",
        "\n",
        "2.5 GPT2 Tokenizer\n",
        "GPT-2 uses byte pair encoding (BPE) tokenizer technology. BPE is a data compression technique that is widely used in NLP for tokenization. GPT-2 tokenizer is available as an open-source library on Hugging Face’s Transformers platform\n",
        "\n",
        "tokenizer = GPT2TokenizerFast.from_pretrained(model_name,\n",
        "                                              bos_token='<|startoftext|>',\n",
        "                                              eos_token='<|endoftext|>',\n",
        "                                              unk_token='<|unknown|>',\n",
        "                                              pad_token='<|pad|>'\n",
        "                                             )\n",
        "GPT-2 has a vocabulary of 50,260 tokens with 4 last indices reserved for special tokens such as <|endoftext|>, <|startoftext|>, <|unknown|> and <|pad|>. <|unknown|> is used for words not in the GPT-2 vocabulary and <|pad|> is used at the end of short sequences to make sequences within a batch have the same length. We can take a look at tokens and their indices with tokenizer.vocab.items(). “Ġplayers”, “Ġplayer”, “player”, “ĠPlayer”, “ĠPlayers”, “Player”, “Players”, “players” are all different words in GPT-2 vocabulary with ‘Ġ’ is the space character.\n",
        "\n",
        "2.6 Tokenize DataSets & DataLoaders\n",
        "As GPT2 is a large model, I got out of memory error with batch_size above 2 so in each iteration, I process 2 sequences together. The max length of sentences (or sequences) is 180, which is far from 1024 the limit of gpt2-medium though enough to show the meaning of the generated recipe.\n",
        "\n",
        "Now I create RecipeDataset class to handle recipe data using PyTorch Dataset. I use tokenize.encode_plus to tokenize the sentences of recipe, add special tokens to start/end of sentence, map tokens into their integer IDs, create attention masks for real and [PAD] tokens. With truncation=True, padding='max_length', max_length=180, I can get same length inputs for the model - the long texts will be truncated to 180 tokens while the short texts will have extra padding tokens added to make it 180 tokens.\n",
        "\n",
        "batch_size = 2\n",
        "max_length = 180  \n",
        "\n",
        "# standard PyTorch approach of loading data in using a Dataset class.\n",
        "class RecipeDataset(Dataset):\n",
        "    def __init__(self, data, tokenizer):\n",
        "        self.data = data\n",
        "        self.input_ids = []\n",
        "        self.attn_masks = []\n",
        "\n",
        "        for recipe in data:\n",
        "            encodings = tokenizer.encode_plus(recipe,\n",
        "                                              truncation=True,\n",
        "                                              padding='max_length',\n",
        "                                              max_length=max_length,\n",
        "                                              # return a PyTorch tensor\n",
        "                                              return_tensors='pt'       \n",
        "                                             )\n",
        "            self.input_ids.append(torch.squeeze(encodings['input_ids'],0))\n",
        "            self.attn_masks.append(torch.squeeze(encodings['attention_mask'],0))\n",
        "\n",
        "\n",
        "    def __len__(self):\n",
        "        return len(self.data)\n",
        "\n",
        "    def __getitem__(self,idx):\n",
        "        return self.input_ids[idx], self.attn_masks[idx]\n",
        "\n",
        "dataset = RecipeDataset(data, tokenizer)\n",
        "print(f\"input_ids: {dataset[0][0]} attn_masks: {dataset[0][1]}\")\n",
        "If you are curios about data in the RecipeDataset, you can print out elements of the first item of the encoded dataset and get something like below. The first token id of the sequence is 50257, which is bos_token. 50256 is the eos_tokenand followed by a bunch of 50259, which are padding tokens to make 180 (max_length) tokens. The second tensor is attention masks with 1 is for real token and 0 is for padding token.\n",
        "\n",
        "dataset[0]:\n",
        "  input_ids: tensor([50257, 41222, 25,  4171, 20853, 11, 19468, 4817,\n",
        "        16858, 32132, 11, 18873, 13135, 13, 27759, 25, 309, 793,\n",
        "        4691, 13, 50256, 50259, 50259, 50259, 50259, 50259, 50259, 50259,\n",
        "        50259, 50259, 50259, 50259, 50259, 50259, 50259, 50259, 50259])\n",
        "   attn_masks: tensor([1, 1, 1, 1, 1, 1, 1, 1, 1, 1, 1, 1, 1, 1, 1, 1, 1,\n",
        "        1, 1, 1, 1, 1, 1, 1, 1, 1, 1, 1, 0, 0, 0, 0, 0, 0, 0, 0, 0, 0, 0])\n",
        "Divide up our dataset to use 90% for training and 10% for validation. I create an iterator for the recipe dataset using the PyTorch DataLoader. This helps save on memory during training because, unlike a for loop, the entire dataset does not need to be loaded into memory with an iterator.\n",
        "\n",
        "Our data is recipes, they are independent to each other, so the order is not important, using RandomSampleror SequentialSamplerto sample data does not make any difference in this project.\n",
        "\n",
        "# Split into training and validation sets\n",
        "train_size = int(0.9 * len(dataset))\n",
        "val_size = len(dataset) - train_size\n",
        "\n",
        "train_dataset, val_dataset = random_split(dataset, [train_size, val_size])\n",
        "\n",
        "# Create the DataLoaders for our training and validation datasets.\n",
        "# Get training samples in random order.\n",
        "train_dataloader = DataLoader(\n",
        "            train_dataset,\n",
        "            sampler = RandomSampler(train_dataset),\n",
        "            batch_size = batch_size # Trains with this batch size.\n",
        "        )\n",
        "\n",
        "# Get valiation samples sequentially.\n",
        "validation_dataloader = DataLoader(\n",
        "            val_dataset,\n",
        "            sampler = SequentialSampler(val_dataset),\n",
        "            batch_size = batch_size # Evaluate with this batch size.\n",
        "        )\n",
        "2.7 Finetune GPT2 Language Model\n",
        "GPT2LMHeadModel is a implementation of the GPT-2 model architecture by Hugging Face. The primary use case of GPT2LMHeadModel is text generation. Given an initial prompt or seed text, the model can autoregressively generate additional text by predicting the next word in the sequence based on the preceding words and sampling from the predicted distribution.\n",
        "\n",
        "The original embedding size of gpt2-medium is [50257, 1024] with the last token (id 50256) is eos_token = <|endoftext|>. As we added 3 more special tokens bos_token , unk_token , pad_token to the vocabulary, we need to update the model embeddings with the new vocabulary size by using resize_token_embeddings(len(tokenizer)).\n",
        "\n",
        "I choose Hugging Face’s AdamW as the optimizer that will do the optimization of model parameters using gradient descent algorithm. I create a schedule with a learning rate that decreases linearly from the initial lr set in the optimizer to 0, after a warmup period during which it increases linearly from 0 to the initial lr set in the optimizer.\n",
        "\n",
        "configuration = GPT2Config.from_pretrained(model_name)\n",
        "model = GPT2LMHeadModel.from_pretrained(model_name, config=configuration)\n",
        "model = model.to(device)\n",
        "model.resize_token_embeddings(len(tokenizer))\n",
        "\n",
        "epochs = 3\n",
        "learning_rate = 2e-5\n",
        "warmup_steps = 1e2\n",
        "# to prevent any division by zero in the implementation\n",
        "epsilon = 1e-8\n",
        "optim = AdamW(model.parameters(), lr = learning_rate, eps = epsilon)\n",
        "\n",
        "total_steps = len(train_dataloader) * epochs  # [no batches] x [no epochs]\n",
        "\n",
        "# Create the learning rate scheduler.\n",
        "scheduler = get_linear_schedule_with_warmup(optim,\n",
        "                                            num_warmup_steps=warmup_steps,\n",
        "                                            num_training_steps=total_steps)\n",
        "Training loop for fine-tuning.\n",
        "\n",
        "The outer loop iterates over each epoch (training cycle)\n",
        "The inner loop iterates over each batch in the training dataset.\n",
        "model.train() switches the model to training mode (compared to eval() evaluation mode).\n",
        "Inside the batch loop, the input data (tokenized sentences), labels, and attention masks are extracted from the batch. These tensors are moved to the appropriate device (e.g., GPU).\n",
        "model.zero_grad() clears the gradients of the model parameters before performing the forward pass with a new batch.\n",
        "In the forward pass, the model is called with the input data to obtain the model’s predictions. The labels parameter is provided to calculate the loss during training. The model outputs include the loss and potentially other values (e.g., logits).\n",
        "In the backward pass, the loss is used to compute the gradients of the model parameters with respect to the loss via backpropagation.\n",
        "In the optimization step, the optimizer (optim) updates the model parameters based on the computed gradients.\n",
        "for epoch_i in range(0, epochs):\n",
        "    total_train_loss = 0\n",
        "    model.train()\n",
        "\n",
        "    for step, batch in enumerate(train_dataloader):\n",
        "        b_input_ids = batch[0].to(device)\n",
        "        b_labels    = batch[0].to(device)\n",
        "        b_masks     = batch[1].to(device)\n",
        "\n",
        "        model.zero_grad()\n",
        "        outputs = model( input_ids = b_input_ids, labels = b_labels,\n",
        "                         attention_mask = b_masks, token_type_ids = None )\n",
        "\n",
        "        loss = outputs[0]\n",
        "\n",
        "        # Get sample every x batches.\n",
        "        if step % 100 == 0 and not step == 0:\n",
        "            model.eval()\n",
        "            print(infer(\"eggs, flour, butter, sugar\"))\n",
        "            model.train()\n",
        "\n",
        "        loss.backward()\n",
        "        optim.step()\n",
        "        scheduler.step()\n",
        "At the same level with the training iterations using train_dataloader above, I have validation iterations using validation_dataloader.\n",
        "\n",
        "model.eval()sets the model to evaluation mode, which disables dropout and batch normalization layers, if any. During evaluation, we don’t want the model to update its parameters or learn anything new but just want to evaluate its performance on unseen data.\n",
        "torch.no_grad()temporarily disable gradient computation as during evaluation, we don’t need to calculate gradients since we are not updating model’s parameters.\n",
        "    model.eval()\n",
        "\n",
        "    # Evaluate data for one epoch\n",
        "    for batch in validation_dataloader:\n",
        "        b_input_ids = batch[0].to(device)\n",
        "        b_labels    = batch[0].to(device)\n",
        "        b_masks     = batch[1].to(device)\n",
        "\n",
        "        with torch.no_grad():\n",
        "            outputs  = model(input_ids = b_input_ids, labels = b_labels\n",
        "                             attention_mask = b_masks)\n",
        "            loss = outputs[0]\n",
        "Below is the statistic after 3 epochs. The training time and training loss can be changed with different model sizes (small, large, extra-large), different sequence’s max length (180 in my code), bigger vocabulary (~50k with GPT2, GPT3; ~100k with GPT3.5, GPT4) and amount of data (1,000 recipes in my code).\n",
        "\n",
        "\n",
        "2.8 Saving & Loading Fine-Tuned Model\n",
        "I save the trained model, configuration and tokenizer for future use. The file pytorch_model.bin has a size of 1.3 GB.\n",
        "\n",
        "model.save_pretrained(model_save_path)\n",
        "tokenizer.save_pretrained(model_save_path)\n",
        "model = GPT2LMHeadModel.from_pretrained(model_save_path)\n",
        "tokenizer = GPT2TokenizerFast.from_pretrained(model_save_path)\n",
        "model.to(device)\n",
        "2.9 Generate Text\n",
        "The model splits into 2 parts: encoder and decoder. Encoder reads the input text and returns a vector representing that input. Then, the decoder takes that vector and generates a corresponding text by generating one token at a time. There are various decoding strategies for a model to generate text.\n",
        "\n",
        "Greedy\n",
        "At each step, the model predicts the token with the highest probability and selects it as the next token in the sequence. Greedy search tends to produce fluent and grammatically correct but repetitive outputs.\n",
        "\n",
        "Beam Search\n",
        "Expands on greedy search by maintaining a set of candidate sequences, called the beam. Beam search typically produces more diverse and coherent text compared to greedy search but because it selects the best probable response, it may still suffer from repetitive or generic outputs.\n",
        "\n",
        "Random Sampling with Temperature\n",
        "Random sampling, by itself, could potentially generate a very random word by chance. Temperature is used to increase the probability of probable tokens while reducing the one that is not. Usually, the range is 0 < temp ≤ 1.\n",
        "\n",
        "Top-K Sampling\n",
        "Top-K sampling is used to ensure that the less probable words should not have any chance at all. Only top K probable tokens should be considered for a generation.\n",
        "\n",
        "Top-P Sampling (Nucleus Sampling)\n",
        "Nucleus sampling is similar to Top-K sampling. Instead of focusing on Top-K words, nucleus sampling focuses on the smallest possible sets of Top-V words such that the sum of their probability is ≥ p. Then, the tokens that are not in V^(p) are set to 0; the rest are re-scaled to ensure that they sum to 1. The intuition is that when the model is very certain on some tokens, the set of potential candidate tokens is small, otherwise, more potential candidate tokens are needed to have sum of probability to exceed p.\n",
        "\n",
        "This is the function I used to generate text from a model.\n",
        "\n",
        "Takes a prompt as input, adds a starting text before it. The input is then tokenized to convert into numerical representation.\n",
        "Generates new text based on the provided input\n",
        "The generated output is a sequence of token IDs, all special tokens such as padding, end-of-sequence tokens are removed. The decoded output is a string of generated text.\n",
        "def infer(prompt):\n",
        "    input = f\"<|startoftext|>Ingredients: {prompt.strip()}\"\n",
        "    input = tokenizer(input, return_tensors=\"pt\")\n",
        "    input_ids      = input[\"input_ids\"]\n",
        "    attention_mask = input[\"attention_mask\"]\n",
        "\n",
        "    output = model.generate(input_ids.to(device),\n",
        "                            attention_mask=attention_mask.to(device),\n",
        "                            max_new_tokens=max_length,\n",
        "                            do_sample = True, top_k = 50, top_p = 0.85)\n",
        "    output = tokenizer.decode(output[0], skip_special_tokens=True)\n",
        "    return output\n",
        "So now, we are ready to generate recipes with our fine-tuned model. Let’s take 2 examples and see if the generated text is more coherent than the text generated by the original GPT2.\n",
        "\n",
        "infer(\"eggs, mushroom, butter, sugar\")\n",
        "Ingredients: eggs, mushroom, butter, sugar, milk, cream, cornstarch, salt, brown sugar, flour, baking powder, baking soda, baking soda.\n",
        "Instructions: In a large saucepan, bring eggs to boil. Reduce heat and simmer until thickened. Remove from heat and stir in mushroom, butter, sugar, milk, cornstarch, salt, and brown sugar. Add the flour, baking powder and baking soda; stir until well blended. Add the baking soda and stir until completely dissolved. Add milk and cornstarch mixture to the mushroom mixture. Stir well to combine. Divide mixture into 8 equal parts and bake at 350 degrees for 15 minutes. Let stand 5 minutes before serving. Makes 4–6 servings.\n",
        "\n",
        "infer(\"beef, salt, pepper\")\n",
        "Ingredients: beef, salt, pepper, onions, garlic.\n",
        "Instructions: Cut the beef into 1-inch cubes and discard the fat. Melt the butter in a small saucepan, and add the onion. Stir-fry for 2 minutes. Add the garlic and saute until golden brown. Add the beef cubes and cook for 5 minutes. Pour the remaining butter in a heavy bottomed pan and bring to a boil. Stir occasionally, simmer for 10 minutes. Sprinkle the chopped parsley over the beef cubes, and cook for 3 minutes more, stirring occasionally. Return the beef to the saucepan and stir. Add the salt, pepper, onion, garlic and remaining butter to the beef cubes. Cook for 2 minutes more. Season with salt and pepper. Spoon the beef into a lasagna pan, and spread the sauce evenly over. Top with fresh parsley and tomato sauce. Refrigerate for 5 minutes. Cut into\n",
        "\n",
        "Observation\n",
        "\n",
        "“baking soda” appears twice in the Ingredients of the first example. Some ingredients are used in the second recipe but not listed in the Ingredients section.\n",
        "The recipes appear to have coherent steps.\n",
        "Each time, completely different recipes are generated.\n",
        "Obviously, we should not use these to cook.\n",
        "2.10 Performance Evaluation with BLEU\n",
        "I tried to implement BLEU score to evaluate the quality of generated recipe by comparing it with the original recipe. However, there are no 2-gram overlaps between them. I’m posting the code here for your reference and may come back to it later.\n",
        "\n",
        "import statistics\n",
        "from nltk.translate.bleu_score import sentence_bleu\n",
        "\n",
        "scores=[]\n",
        "\n",
        "for i in range(10):\n",
        "    ingredients = val_dataset[i][2]  # original ingredients\n",
        "    reference = val_dataset[i][3]    # original instructions\n",
        "    candidate = infer(ingredients)   # generated instructions\n",
        "    scores.append(sentence_bleu(reference, candidate))\n",
        "\n",
        "print(statistics.mean(scores))\n",
        "\n",
        "# UserWarning: The hypothesis contains 0 counts of 2-gram overlaps.\n",
        "# Therefore the BLEU score evaluates to 0\n",
        "This project is a work in progress and I will continually update it as I learn more about text generation.\n",
        "\n",
        "Thanks a lot for reading, I hope I could help!\n",
        "\n",
        "3. What next?\n",
        "As the article shows, fine-tuning GPT-2 on specific dataset enables the generation of relevant text relatively easily. However, there are several improvement ideas that we can consider implementing:\n",
        "\n",
        "Using a bigger GPT-2 model, such as gpt2-large, gpt2-xl along with a bigger training data could generate higher quality recipes.\n",
        "Exploring the potential of GPT-4? This is not just an opportunity to generate better recipes but also a chance to work with Azure OpenAI services.\n",
        "GitHub: https://github.com/tuangatech/01-Recipes-Generation-GPT2\n",
        "LinkedIn: https://www.linkedin.com/in/tuantran-atlanta/\n",
        "\n",
        "References\n",
        "\n",
        "Text Generation with HuggingFace — GPT2\n",
        "GPT-2 Fine-Tuning w/ Hugging Face & PyTorch.ipynb"
      ],
      "metadata": {
        "id": "Pg87A1NmqPWu"
      }
    }
  ]
}